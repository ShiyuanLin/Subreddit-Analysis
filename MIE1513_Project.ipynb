{
  "nbformat": 4,
  "nbformat_minor": 0,
  "metadata": {
    "kernelspec": {
      "display_name": "Python (fuj_clust)",
      "language": "python",
      "name": "fuj_clust"
    },
    "language_info": {
      "codemirror_mode": {
        "name": "ipython",
        "version": 3
      },
      "file_extension": ".py",
      "mimetype": "text/x-python",
      "name": "python",
      "nbconvert_exporter": "python",
      "pygments_lexer": "ipython3",
      "version": "3.6.8"
    },
    "colab": {
      "name": "MIE1513_Project.ipynb",
      "provenance": [],
      "collapsed_sections": [],
      "toc_visible": true
    }
  },
  "cells": [
    {
      "cell_type": "markdown",
      "metadata": {
        "id": "mPSlKm2lz35q",
        "colab_type": "text"
      },
      "source": [
        "# **MIE1513: Final Project**\n",
        "### Submission date: April 20, 2020 at 23:59pm"
      ]
    },
    {
      "cell_type": "markdown",
      "metadata": {
        "id": "fjOQiKpWz35r",
        "colab_type": "text"
      },
      "source": [
        "-------------\n",
        "\n",
        "## Academic Integrity Declaration:\n",
        "In submitting this assessment, I confirm that my conduct during this project adheres to the Code of Behaviour on Academic Matters. I confirm that I have not acted in such a way that would constitute cheating, misrepresentation, or unfairness, including but not limited to, using unauthorized aids and assistance, impersonating another person, and committing plagiarism. I pledge upon my honour that I have not violated the Faculty of Applied Science & Engineering’s Honour Code during this assessment.\n",
        "\n",
        "-------------\n"
      ]
    },
    {
      "cell_type": "markdown",
      "metadata": {
        "id": "kCAnjzWPz35s",
        "colab_type": "text"
      },
      "source": [
        "## Part 1: Data Loading"
      ]
    },
    {
      "cell_type": "markdown",
      "metadata": {
        "id": "tmc__xfJz35s",
        "colab_type": "text"
      },
      "source": [
        "### (a) Load the provided dataset (reddit_data.json)"
      ]
    },
    {
      "cell_type": "code",
      "metadata": {
        "id": "14zoiPCYz35t",
        "colab_type": "code",
        "colab": {
          "base_uri": "https://localhost:8080/",
          "height": 221
        },
        "outputId": "bb2c7659-8600-42e2-a0f9-1fe830d88ef1"
      },
      "source": [
        "import pandas as pd\n",
        "import numpy as np\n",
        "import matplotlib.pyplot as plt\n",
        "#Counter\n",
        "from collections import Counter\n",
        "#Progress bar\n",
        "from tqdm import tqdm\n",
        "#Operation\n",
        "import operator\n",
        "\n",
        "import nltk\n",
        "## Download Resources\n",
        "nltk.download(\"vader_lexicon\")\n",
        "nltk.download(\"stopwords\")\n",
        "nltk.download(\"averaged_perceptron_tagger\")\n",
        "nltk.download(\"wordnet\")\n",
        "nltk.download('punkt')\n",
        "from nltk.corpus import stopwords\n",
        "from nltk.stem import WordNetLemmatizer \n",
        "from sklearn.linear_model import LogisticRegression\n",
        "from sklearn.naive_bayes import MultinomialNB\n",
        "from sklearn import svm\n",
        "from sklearn.model_selection import train_test_split\n",
        "from sklearn.metrics import accuracy_score, confusion_matrix\n",
        "\n",
        "from nltk.sentiment.vader import SentimentIntensityAnalyzer"
      ],
      "execution_count": 82,
      "outputs": [
        {
          "output_type": "stream",
          "text": [
            "[nltk_data] Downloading package vader_lexicon to /root/nltk_data...\n",
            "[nltk_data]   Package vader_lexicon is already up-to-date!\n",
            "[nltk_data] Downloading package stopwords to /root/nltk_data...\n",
            "[nltk_data]   Package stopwords is already up-to-date!\n",
            "[nltk_data] Downloading package averaged_perceptron_tagger to\n",
            "[nltk_data]     /root/nltk_data...\n",
            "[nltk_data]   Package averaged_perceptron_tagger is already up-to-\n",
            "[nltk_data]       date!\n",
            "[nltk_data] Downloading package wordnet to /root/nltk_data...\n",
            "[nltk_data]   Package wordnet is already up-to-date!\n",
            "[nltk_data] Downloading package punkt to /root/nltk_data...\n",
            "[nltk_data]   Package punkt is already up-to-date!\n"
          ],
          "name": "stdout"
        }
      ]
    },
    {
      "cell_type": "code",
      "metadata": {
        "id": "_FsUXtj3z35x",
        "colab_type": "code",
        "colab": {}
      },
      "source": [
        "data_all = pd.read_json(\"reddit_data.zip\", orient='records', lines=True)\n",
        "data_all = data_all[[\"id\", \"author\", \"created_utc\", \"subreddit\", \"title\", \"num_comments\", \"score\", \"selftext\", \"url\"]]"
      ],
      "execution_count": 0,
      "outputs": []
    },
    {
      "cell_type": "code",
      "metadata": {
        "id": "X_WO5g-Uz350",
        "colab_type": "code",
        "outputId": "cdb75f55-04b4-47ca-e8e7-e3326121985e",
        "colab": {
          "base_uri": "https://localhost:8080/",
          "height": 204
        }
      },
      "source": [
        "data_all.head()"
      ],
      "execution_count": 3,
      "outputs": [
        {
          "output_type": "execute_result",
          "data": {
            "text/html": [
              "<div>\n",
              "<style scoped>\n",
              "    .dataframe tbody tr th:only-of-type {\n",
              "        vertical-align: middle;\n",
              "    }\n",
              "\n",
              "    .dataframe tbody tr th {\n",
              "        vertical-align: top;\n",
              "    }\n",
              "\n",
              "    .dataframe thead th {\n",
              "        text-align: right;\n",
              "    }\n",
              "</style>\n",
              "<table border=\"1\" class=\"dataframe\">\n",
              "  <thead>\n",
              "    <tr style=\"text-align: right;\">\n",
              "      <th></th>\n",
              "      <th>id</th>\n",
              "      <th>author</th>\n",
              "      <th>created_utc</th>\n",
              "      <th>subreddit</th>\n",
              "      <th>title</th>\n",
              "      <th>num_comments</th>\n",
              "      <th>score</th>\n",
              "      <th>selftext</th>\n",
              "      <th>url</th>\n",
              "    </tr>\n",
              "  </thead>\n",
              "  <tbody>\n",
              "    <tr>\n",
              "      <th>0</th>\n",
              "      <td>abcupx</td>\n",
              "      <td>WithGravy</td>\n",
              "      <td>1546300839</td>\n",
              "      <td>gaming</td>\n",
              "      <td>What are some game games to enjoy on a low-end...</td>\n",
              "      <td>31</td>\n",
              "      <td>3</td>\n",
              "      <td>Got a new laptop and want to enjoy some games ...</td>\n",
              "      <td>https://www.reddit.com/r/gaming/comments/abcup...</td>\n",
              "    </tr>\n",
              "    <tr>\n",
              "      <th>1</th>\n",
              "      <td>abcuz2</td>\n",
              "      <td>mikebeingfrank</td>\n",
              "      <td>1546300881</td>\n",
              "      <td>pics</td>\n",
              "      <td>In 1964, an average wage worker had to clock 8...</td>\n",
              "      <td>4</td>\n",
              "      <td>5</td>\n",
              "      <td></td>\n",
              "      <td>https://i.redd.it/j6rqqthwcp721.jpg</td>\n",
              "    </tr>\n",
              "    <tr>\n",
              "      <th>2</th>\n",
              "      <td>abcv1a</td>\n",
              "      <td>[deleted]</td>\n",
              "      <td>1546300892</td>\n",
              "      <td>worldnews</td>\n",
              "      <td>India: Chinese woman, 25, on solo trip to Khaj...</td>\n",
              "      <td>13</td>\n",
              "      <td>23</td>\n",
              "      <td></td>\n",
              "      <td>https://timesofindia.indiatimes.com/city/agra/...</td>\n",
              "    </tr>\n",
              "    <tr>\n",
              "      <th>3</th>\n",
              "      <td>abcv5v</td>\n",
              "      <td>Lucious-Lyon</td>\n",
              "      <td>1546300914</td>\n",
              "      <td>AskReddit</td>\n",
              "      <td>[Serious] American Liberals of Reddit: Without...</td>\n",
              "      <td>76</td>\n",
              "      <td>0</td>\n",
              "      <td>[removed]</td>\n",
              "      <td>https://www.reddit.com/r/AskReddit/comments/ab...</td>\n",
              "    </tr>\n",
              "    <tr>\n",
              "      <th>4</th>\n",
              "      <td>abcv7f</td>\n",
              "      <td>sandollars</td>\n",
              "      <td>1546300923</td>\n",
              "      <td>worldnews</td>\n",
              "      <td>According to the Fiji Government, the Australi...</td>\n",
              "      <td>21</td>\n",
              "      <td>13</td>\n",
              "      <td></td>\n",
              "      <td>http://fijisun.com.fj/2019/01/01/vuniwaqa-prak...</td>\n",
              "    </tr>\n",
              "  </tbody>\n",
              "</table>\n",
              "</div>"
            ],
            "text/plain": [
              "       id  ...                                                url\n",
              "0  abcupx  ...  https://www.reddit.com/r/gaming/comments/abcup...\n",
              "1  abcuz2  ...                https://i.redd.it/j6rqqthwcp721.jpg\n",
              "2  abcv1a  ...  https://timesofindia.indiatimes.com/city/agra/...\n",
              "3  abcv5v  ...  https://www.reddit.com/r/AskReddit/comments/ab...\n",
              "4  abcv7f  ...  http://fijisun.com.fj/2019/01/01/vuniwaqa-prak...\n",
              "\n",
              "[5 rows x 9 columns]"
            ]
          },
          "metadata": {
            "tags": []
          },
          "execution_count": 3
        }
      ]
    },
    {
      "cell_type": "markdown",
      "metadata": {
        "id": "ike4IhIpz353",
        "colab_type": "text"
      },
      "source": [
        "### (b)\tGenerate your unique subset of the data\n",
        "\n",
        "**Make sure you update unique_string with your email address**"
      ]
    },
    {
      "cell_type": "code",
      "metadata": {
        "id": "BAHDlBn8z353",
        "colab_type": "code",
        "colab": {}
      },
      "source": [
        "# DO NOT CHANGE THE FUNCTION BELOW\n",
        "def getMySubreddits(data, my_str):\n",
        "    assert my_str != \"\", \"You must fill in your unique string\"\n",
        "    import random\n",
        "    subreddits = sorted(data[\"subreddit\"].unique().tolist())\n",
        "    rng = random.Random(my_str)\n",
        "    return rng.sample(subreddits, 4)"
      ],
      "execution_count": 0,
      "outputs": []
    },
    {
      "cell_type": "code",
      "metadata": {
        "id": "fEHhSWTOz356",
        "colab_type": "code",
        "outputId": "494f73b9-d2b0-4882-8a7a-48cdb7ed0ba4",
        "colab": {
          "base_uri": "https://localhost:8080/",
          "height": 34
        }
      },
      "source": [
        "# Fill in your UofT email in the variable unique_string below\n",
        "unique_string = \"shiyuan.lin@mail.utoronto.ca\" \n",
        "my_subreddits = getMySubreddits(data_all, unique_string)\n",
        "print(\"My subreddits:\", my_subreddits)"
      ],
      "execution_count": 5,
      "outputs": [
        {
          "output_type": "stream",
          "text": [
            "My subreddits: ['news', 'pics', 'WTF', 'gaming']\n"
          ],
          "name": "stdout"
        }
      ]
    },
    {
      "cell_type": "code",
      "metadata": {
        "id": "wHEhl3Eyz359",
        "colab_type": "code",
        "colab": {}
      },
      "source": [
        "data = data_all[data_all[\"subreddit\"].isin(my_subreddits)]"
      ],
      "execution_count": 0,
      "outputs": []
    },
    {
      "cell_type": "code",
      "metadata": {
        "id": "02xJJJMRz36A",
        "colab_type": "code",
        "outputId": "5a863581-8f9c-4fe6-95e3-7fccb35bea7d",
        "colab": {
          "base_uri": "https://localhost:8080/",
          "height": 204
        }
      },
      "source": [
        "data.head()"
      ],
      "execution_count": 7,
      "outputs": [
        {
          "output_type": "execute_result",
          "data": {
            "text/html": [
              "<div>\n",
              "<style scoped>\n",
              "    .dataframe tbody tr th:only-of-type {\n",
              "        vertical-align: middle;\n",
              "    }\n",
              "\n",
              "    .dataframe tbody tr th {\n",
              "        vertical-align: top;\n",
              "    }\n",
              "\n",
              "    .dataframe thead th {\n",
              "        text-align: right;\n",
              "    }\n",
              "</style>\n",
              "<table border=\"1\" class=\"dataframe\">\n",
              "  <thead>\n",
              "    <tr style=\"text-align: right;\">\n",
              "      <th></th>\n",
              "      <th>id</th>\n",
              "      <th>author</th>\n",
              "      <th>created_utc</th>\n",
              "      <th>subreddit</th>\n",
              "      <th>title</th>\n",
              "      <th>num_comments</th>\n",
              "      <th>score</th>\n",
              "      <th>selftext</th>\n",
              "      <th>url</th>\n",
              "    </tr>\n",
              "  </thead>\n",
              "  <tbody>\n",
              "    <tr>\n",
              "      <th>0</th>\n",
              "      <td>abcupx</td>\n",
              "      <td>WithGravy</td>\n",
              "      <td>1546300839</td>\n",
              "      <td>gaming</td>\n",
              "      <td>What are some game games to enjoy on a low-end...</td>\n",
              "      <td>31</td>\n",
              "      <td>3</td>\n",
              "      <td>Got a new laptop and want to enjoy some games ...</td>\n",
              "      <td>https://www.reddit.com/r/gaming/comments/abcup...</td>\n",
              "    </tr>\n",
              "    <tr>\n",
              "      <th>1</th>\n",
              "      <td>abcuz2</td>\n",
              "      <td>mikebeingfrank</td>\n",
              "      <td>1546300881</td>\n",
              "      <td>pics</td>\n",
              "      <td>In 1964, an average wage worker had to clock 8...</td>\n",
              "      <td>4</td>\n",
              "      <td>5</td>\n",
              "      <td></td>\n",
              "      <td>https://i.redd.it/j6rqqthwcp721.jpg</td>\n",
              "    </tr>\n",
              "    <tr>\n",
              "      <th>5</th>\n",
              "      <td>abcv7e</td>\n",
              "      <td>RyanGwood12</td>\n",
              "      <td>1546300923</td>\n",
              "      <td>pics</td>\n",
              "      <td>Here’s a reminder to grab one of these for a b...</td>\n",
              "      <td>12</td>\n",
              "      <td>0</td>\n",
              "      <td></td>\n",
              "      <td>https://i.redd.it/063lwxm0dp721.jpg</td>\n",
              "    </tr>\n",
              "    <tr>\n",
              "      <th>6</th>\n",
              "      <td>abcv8x</td>\n",
              "      <td>suen05csus</td>\n",
              "      <td>1546300931</td>\n",
              "      <td>gaming</td>\n",
              "      <td>Xbox 1 s controller not discovered via bluetoo...</td>\n",
              "      <td>7</td>\n",
              "      <td>3</td>\n",
              "      <td>Title says it all...\\n\\nXbox 1 s controller no...</td>\n",
              "      <td>https://www.reddit.com/r/gaming/comments/abcv8...</td>\n",
              "    </tr>\n",
              "    <tr>\n",
              "      <th>8</th>\n",
              "      <td>abcvdf</td>\n",
              "      <td>IAmNightbreed</td>\n",
              "      <td>1546300952</td>\n",
              "      <td>gaming</td>\n",
              "      <td>The local Walmart did not sell even one copy o...</td>\n",
              "      <td>24</td>\n",
              "      <td>43</td>\n",
              "      <td></td>\n",
              "      <td>https://i.redd.it/30cad4s3dp721.jpg</td>\n",
              "    </tr>\n",
              "  </tbody>\n",
              "</table>\n",
              "</div>"
            ],
            "text/plain": [
              "       id  ...                                                url\n",
              "0  abcupx  ...  https://www.reddit.com/r/gaming/comments/abcup...\n",
              "1  abcuz2  ...                https://i.redd.it/j6rqqthwcp721.jpg\n",
              "5  abcv7e  ...                https://i.redd.it/063lwxm0dp721.jpg\n",
              "6  abcv8x  ...  https://www.reddit.com/r/gaming/comments/abcv8...\n",
              "8  abcvdf  ...                https://i.redd.it/30cad4s3dp721.jpg\n",
              "\n",
              "[5 rows x 9 columns]"
            ]
          },
          "metadata": {
            "tags": []
          },
          "execution_count": 7
        }
      ]
    },
    {
      "cell_type": "markdown",
      "metadata": {
        "id": "hfn_dKx1z36D",
        "colab_type": "text"
      },
      "source": [
        "## Part 2: Exploratory Data Analysis "
      ]
    },
    {
      "cell_type": "markdown",
      "metadata": {
        "id": "onhwk7xiBavM",
        "colab_type": "text"
      },
      "source": [
        "###(a)"
      ]
    },
    {
      "cell_type": "code",
      "metadata": {
        "id": "-Jt47BvYqBe7",
        "colab_type": "code",
        "colab": {
          "base_uri": "https://localhost:8080/",
          "height": 34
        },
        "outputId": "c9868c20-5820-422a-e1c9-997064895ad2"
      },
      "source": [
        "'''\n",
        "Total rows of data\n",
        "'''\n",
        "len(data)"
      ],
      "execution_count": 8,
      "outputs": [
        {
          "output_type": "execute_result",
          "data": {
            "text/plain": [
              "35611"
            ]
          },
          "metadata": {
            "tags": []
          },
          "execution_count": 8
        }
      ]
    },
    {
      "cell_type": "markdown",
      "metadata": {
        "id": "fvBQzycGn5sx",
        "colab_type": "text"
      },
      "source": [
        "#### 1. Column: author\n",
        "\n",
        "When I explore the author column, I find out that some author and their selftext been deleted, which has a great chance to affect my classification result if selftext is an import factor in classification task.\n",
        "\n",
        "I look into the top 20 most activate authors subreddits and find that all of them only has one subreddit except for the authors \"[deleted]\" and \"Glumbot_2\". The result indicates that author values can be a very import feature in the classification process."
      ]
    },
    {
      "cell_type": "code",
      "metadata": {
        "id": "7JGaKWJ-n9K0",
        "colab_type": "code",
        "colab": {
          "base_uri": "https://localhost:8080/",
          "height": 34
        },
        "outputId": "c4e2393b-d222-4928-a1d6-63ff8af36d7d"
      },
      "source": [
        "'''\n",
        "Get number of authors in the data\n",
        "'''\n",
        "data['author'].nunique()"
      ],
      "execution_count": 9,
      "outputs": [
        {
          "output_type": "execute_result",
          "data": {
            "text/plain": [
              "21335"
            ]
          },
          "metadata": {
            "tags": []
          },
          "execution_count": 9
        }
      ]
    },
    {
      "cell_type": "code",
      "metadata": {
        "id": "8C_ElrdpqI7a",
        "colab_type": "code",
        "colab": {
          "base_uri": "https://localhost:8080/",
          "height": 381
        },
        "outputId": "565cd417-55aa-4961-d2cd-03bea6f53b2d"
      },
      "source": [
        "'''\n",
        "Get how many times for each authors showed in the data\n",
        "'''\n",
        "data.author.value_counts().head(20)"
      ],
      "execution_count": 10,
      "outputs": [
        {
          "output_type": "execute_result",
          "data": {
            "text/plain": [
              "[deleted]               7490\n",
              "hornedviper9             127\n",
              "Kleinero                 124\n",
              "tha_amit_maurya          120\n",
              "ApEcet                   108\n",
              "Emmanuelsblog             89\n",
              "randyjm                   68\n",
              "Gistmania                 67\n",
              "TheSuperSagor             55\n",
              "acadvisory                45\n",
              "14K4051106                42\n",
              "ContentHow1               31\n",
              "trendnewswebb             30\n",
              "malangtimes               29\n",
              "Glumbot_2                 27\n",
              "Extra-High-Elf            26\n",
              "chasingtheunicorn         26\n",
              "reviewonlineproducts      26\n",
              "mariyaclijsters           25\n",
              "chahley1                  25\n",
              "Name: author, dtype: int64"
            ]
          },
          "metadata": {
            "tags": []
          },
          "execution_count": 10
        }
      ]
    },
    {
      "cell_type": "code",
      "metadata": {
        "id": "gOzM5NNercgS",
        "colab_type": "code",
        "colab": {
          "base_uri": "https://localhost:8080/",
          "height": 972
        },
        "outputId": "245116fc-d232-414d-d544-ef8d6ad6cbcc"
      },
      "source": [
        "'''\n",
        "Get deleted rows\n",
        "'''\n",
        "data[data['author']==\"[deleted]\"]"
      ],
      "execution_count": 11,
      "outputs": [
        {
          "output_type": "execute_result",
          "data": {
            "text/html": [
              "<div>\n",
              "<style scoped>\n",
              "    .dataframe tbody tr th:only-of-type {\n",
              "        vertical-align: middle;\n",
              "    }\n",
              "\n",
              "    .dataframe tbody tr th {\n",
              "        vertical-align: top;\n",
              "    }\n",
              "\n",
              "    .dataframe thead th {\n",
              "        text-align: right;\n",
              "    }\n",
              "</style>\n",
              "<table border=\"1\" class=\"dataframe\">\n",
              "  <thead>\n",
              "    <tr style=\"text-align: right;\">\n",
              "      <th></th>\n",
              "      <th>id</th>\n",
              "      <th>author</th>\n",
              "      <th>created_utc</th>\n",
              "      <th>subreddit</th>\n",
              "      <th>title</th>\n",
              "      <th>num_comments</th>\n",
              "      <th>score</th>\n",
              "      <th>selftext</th>\n",
              "      <th>url</th>\n",
              "    </tr>\n",
              "  </thead>\n",
              "  <tbody>\n",
              "    <tr>\n",
              "      <th>14</th>\n",
              "      <td>abcvv8</td>\n",
              "      <td>[deleted]</td>\n",
              "      <td>1546301042</td>\n",
              "      <td>pics</td>\n",
              "      <td>Have a happy 2019 you sexy people!</td>\n",
              "      <td>3</td>\n",
              "      <td>46</td>\n",
              "      <td>[deleted]</td>\n",
              "      <td>https://i.redd.it/kphnhymddp721.jpg</td>\n",
              "    </tr>\n",
              "    <tr>\n",
              "      <th>62</th>\n",
              "      <td>abcztm</td>\n",
              "      <td>[deleted]</td>\n",
              "      <td>1546301712</td>\n",
              "      <td>WTF</td>\n",
              "      <td>PSA - Sodie Pop Addiction</td>\n",
              "      <td>16</td>\n",
              "      <td>6</td>\n",
              "      <td>[deleted]</td>\n",
              "      <td>https://imgur.com/qo8VGhH</td>\n",
              "    </tr>\n",
              "    <tr>\n",
              "      <th>72</th>\n",
              "      <td>abd0cx</td>\n",
              "      <td>[deleted]</td>\n",
              "      <td>1546301802</td>\n",
              "      <td>gaming</td>\n",
              "      <td>Zombie games?</td>\n",
              "      <td>25</td>\n",
              "      <td>2</td>\n",
              "      <td>[deleted]</td>\n",
              "      <td>https://www.reddit.com/r/gaming/comments/abd0c...</td>\n",
              "    </tr>\n",
              "    <tr>\n",
              "      <th>153</th>\n",
              "      <td>abd66g</td>\n",
              "      <td>[deleted]</td>\n",
              "      <td>1546302890</td>\n",
              "      <td>news</td>\n",
              "      <td>Elizabeth Warren is running – here are 10 othe...</td>\n",
              "      <td>0</td>\n",
              "      <td>1</td>\n",
              "      <td>[deleted]</td>\n",
              "      <td>https://www.theguardian.com/us-news/2018/dec/3...</td>\n",
              "    </tr>\n",
              "    <tr>\n",
              "      <th>167</th>\n",
              "      <td>abd6uv</td>\n",
              "      <td>[deleted]</td>\n",
              "      <td>1546303025</td>\n",
              "      <td>news</td>\n",
              "      <td>U.S. Navy pursuing block buy of two aircraft c...</td>\n",
              "      <td>0</td>\n",
              "      <td>0</td>\n",
              "      <td>[deleted]</td>\n",
              "      <td>https://www.reuters.com/article/us-usa-defense...</td>\n",
              "    </tr>\n",
              "    <tr>\n",
              "      <th>...</th>\n",
              "      <td>...</td>\n",
              "      <td>...</td>\n",
              "      <td>...</td>\n",
              "      <td>...</td>\n",
              "      <td>...</td>\n",
              "      <td>...</td>\n",
              "      <td>...</td>\n",
              "      <td>...</td>\n",
              "      <td>...</td>\n",
              "    </tr>\n",
              "    <tr>\n",
              "      <th>226082</th>\n",
              "      <td>alvj6r</td>\n",
              "      <td>[deleted]</td>\n",
              "      <td>1548976212</td>\n",
              "      <td>WTF</td>\n",
              "      <td>I have no idea..</td>\n",
              "      <td>9</td>\n",
              "      <td>3</td>\n",
              "      <td>[deleted]</td>\n",
              "      <td>https://i.imgur.com/Pw09RDE.jpg?1</td>\n",
              "    </tr>\n",
              "    <tr>\n",
              "      <th>226089</th>\n",
              "      <td>alvjuh</td>\n",
              "      <td>[deleted]</td>\n",
              "      <td>1548976319</td>\n",
              "      <td>gaming</td>\n",
              "      <td>Nintendo announces 'Dr. Mario' mobile game com...</td>\n",
              "      <td>5</td>\n",
              "      <td>11</td>\n",
              "      <td>[deleted]</td>\n",
              "      <td>https://i.redd.it/og4874nccud21.jpg</td>\n",
              "    </tr>\n",
              "    <tr>\n",
              "      <th>226120</th>\n",
              "      <td>alvlzm</td>\n",
              "      <td>[deleted]</td>\n",
              "      <td>1548976660</td>\n",
              "      <td>gaming</td>\n",
              "      <td>Just finished pencil drawing sketch de_cache :...</td>\n",
              "      <td>7</td>\n",
              "      <td>94</td>\n",
              "      <td>[deleted]</td>\n",
              "      <td>https://i.redd.it/qxgrjn3ddud21.jpg</td>\n",
              "    </tr>\n",
              "    <tr>\n",
              "      <th>226151</th>\n",
              "      <td>alvo6b</td>\n",
              "      <td>[deleted]</td>\n",
              "      <td>1548977303</td>\n",
              "      <td>pics</td>\n",
              "      <td>Emma Stone as a blonde</td>\n",
              "      <td>4</td>\n",
              "      <td>44</td>\n",
              "      <td>[deleted]</td>\n",
              "      <td>https://i.imgur.com/LfGFTnf.jpg</td>\n",
              "    </tr>\n",
              "    <tr>\n",
              "      <th>226157</th>\n",
              "      <td>alvolu</td>\n",
              "      <td>[deleted]</td>\n",
              "      <td>1548977458</td>\n",
              "      <td>gaming</td>\n",
              "      <td>Weapon leveling in real life</td>\n",
              "      <td>7</td>\n",
              "      <td>9</td>\n",
              "      <td>[deleted]</td>\n",
              "      <td>https://youtu.be/mhJXVvf7v2w</td>\n",
              "    </tr>\n",
              "  </tbody>\n",
              "</table>\n",
              "<p>7490 rows × 9 columns</p>\n",
              "</div>"
            ],
            "text/plain": [
              "            id  ...                                                url\n",
              "14      abcvv8  ...                https://i.redd.it/kphnhymddp721.jpg\n",
              "62      abcztm  ...                          https://imgur.com/qo8VGhH\n",
              "72      abd0cx  ...  https://www.reddit.com/r/gaming/comments/abd0c...\n",
              "153     abd66g  ...  https://www.theguardian.com/us-news/2018/dec/3...\n",
              "167     abd6uv  ...  https://www.reuters.com/article/us-usa-defense...\n",
              "...        ...  ...                                                ...\n",
              "226082  alvj6r  ...                  https://i.imgur.com/Pw09RDE.jpg?1\n",
              "226089  alvjuh  ...                https://i.redd.it/og4874nccud21.jpg\n",
              "226120  alvlzm  ...                https://i.redd.it/qxgrjn3ddud21.jpg\n",
              "226151  alvo6b  ...                    https://i.imgur.com/LfGFTnf.jpg\n",
              "226157  alvolu  ...                       https://youtu.be/mhJXVvf7v2w\n",
              "\n",
              "[7490 rows x 9 columns]"
            ]
          },
          "metadata": {
            "tags": []
          },
          "execution_count": 11
        }
      ]
    },
    {
      "cell_type": "code",
      "metadata": {
        "id": "tR62UdEFStvr",
        "colab_type": "code",
        "colab": {
          "base_uri": "https://localhost:8080/",
          "height": 1000
        },
        "outputId": "5464b7b8-ed61-42d6-f681-7e9300b52cfd"
      },
      "source": [
        "'''\n",
        "Show top 20 most activate authors and their subreddits\n",
        "'''\n",
        "for name in data.author.value_counts().head(20).index.tolist():\n",
        "  print(name + \"   \" + data[data['author'] == name]['subreddit'].drop_duplicates())\n",
        "  print(\"-------------\")"
      ],
      "execution_count": 12,
      "outputs": [
        {
          "output_type": "stream",
          "text": [
            "14       [deleted]   pics\n",
            "62        [deleted]   WTF\n",
            "72     [deleted]   gaming\n",
            "153      [deleted]   news\n",
            "Name: subreddit, dtype: object\n",
            "-------------\n",
            "300    hornedviper9   news\n",
            "Name: subreddit, dtype: object\n",
            "-------------\n",
            "1745    Kleinero   news\n",
            "Name: subreddit, dtype: object\n",
            "-------------\n",
            "138698    tha_amit_maurya   news\n",
            "Name: subreddit, dtype: object\n",
            "-------------\n",
            "8249    ApEcet   news\n",
            "Name: subreddit, dtype: object\n",
            "-------------\n",
            "2042    Emmanuelsblog   news\n",
            "Name: subreddit, dtype: object\n",
            "-------------\n",
            "4412    randyjm   news\n",
            "Name: subreddit, dtype: object\n",
            "-------------\n",
            "79569    Gistmania   news\n",
            "Name: subreddit, dtype: object\n",
            "-------------\n",
            "2221    TheSuperSagor   news\n",
            "Name: subreddit, dtype: object\n",
            "-------------\n",
            "50    acadvisory   news\n",
            "Name: subreddit, dtype: object\n",
            "-------------\n",
            "5878    14K4051106   news\n",
            "Name: subreddit, dtype: object\n",
            "-------------\n",
            "777    ContentHow1   news\n",
            "Name: subreddit, dtype: object\n",
            "-------------\n",
            "1355    trendnewswebb   news\n",
            "Name: subreddit, dtype: object\n",
            "-------------\n",
            "669    malangtimes   news\n",
            "Name: subreddit, dtype: object\n",
            "-------------\n",
            "5650       Glumbot_2   pics\n",
            "8054     Glumbot_2   gaming\n",
            "28308       Glumbot_2   WTF\n",
            "Name: subreddit, dtype: object\n",
            "-------------\n",
            "7253    Extra-High-Elf   gaming\n",
            "Name: subreddit, dtype: object\n",
            "-------------\n",
            "4701    chasingtheunicorn   news\n",
            "Name: subreddit, dtype: object\n",
            "-------------\n",
            "2386    reviewonlineproducts   news\n",
            "Name: subreddit, dtype: object\n",
            "-------------\n",
            "50456    mariyaclijsters   news\n",
            "Name: subreddit, dtype: object\n",
            "-------------\n",
            "75941    chahley1   gaming\n",
            "Name: subreddit, dtype: object\n",
            "-------------\n"
          ],
          "name": "stdout"
        }
      ]
    },
    {
      "cell_type": "markdown",
      "metadata": {
        "id": "uGcUM78Ksa2s",
        "colab_type": "text"
      },
      "source": [
        "#### 2. Column: num_comments\n",
        "\n",
        "In the histgram distribution diagram for the num_comments, most values are under 1000.\n",
        "In the boxplot for the num_comments distribution, there are 2 outliers at the top of the diagram. The values for 2 outliers are around 13800 and 11800."
      ]
    },
    {
      "cell_type": "code",
      "metadata": {
        "id": "KdqfD1NdVav-",
        "colab_type": "code",
        "colab": {
          "base_uri": "https://localhost:8080/",
          "height": 282
        },
        "outputId": "f6960bde-e288-4298-c9d5-3d8d80c6c09b"
      },
      "source": [
        "data['num_comments'].plot.hist(bins=15)"
      ],
      "execution_count": 13,
      "outputs": [
        {
          "output_type": "execute_result",
          "data": {
            "text/plain": [
              "<matplotlib.axes._subplots.AxesSubplot at 0x7f667e6f7a20>"
            ]
          },
          "metadata": {
            "tags": []
          },
          "execution_count": 13
        },
        {
          "output_type": "display_data",
          "data": {
            "image/png": "[encoded data removed]",
            "text/plain": [
              "<Figure size 432x288 with 1 Axes>"
            ]
          },
          "metadata": {
            "tags": [],
            "needs_background": "light"
          }
        }
      ]
    },
    {
      "cell_type": "code",
      "metadata": {
        "id": "j7YWig49WyzQ",
        "colab_type": "code",
        "colab": {
          "base_uri": "https://localhost:8080/",
          "height": 283
        },
        "outputId": "f8c95840-2022-408d-92bf-e073e3d9f7ac"
      },
      "source": [
        "data.boxplot(column=['num_comments'])"
      ],
      "execution_count": 14,
      "outputs": [
        {
          "output_type": "execute_result",
          "data": {
            "text/plain": [
              "<matplotlib.axes._subplots.AxesSubplot at 0x7f667e6cba90>"
            ]
          },
          "metadata": {
            "tags": []
          },
          "execution_count": 14
        },
        {
          "output_type": "display_data",
          "data": {
            "image/png": "[encoded data removed]",
            "text/plain": [
              "<Figure size 432x288 with 1 Axes>"
            ]
          },
          "metadata": {
            "tags": [],
            "needs_background": "light"
          }
        }
      ]
    },
    {
      "cell_type": "markdown",
      "metadata": {
        "id": "F3SThYhNcflw",
        "colab_type": "text"
      },
      "source": [
        "#### 3. Column: URL\n",
        "\n",
        "Number of records belong to the subreddit pics is 5897 and 5310 record urls in this subbreddit contains the string - \".jpg\".\n",
        "Number of records belong to the subreddit news is 4775 and no record url in this subbreddit contains the string - \".jpg\".\n",
        "Number of records belong to the subreddit WTF is 4939 and 2030 record urls in this subbreddit contains the string - \".jpg\".\n",
        "Number of records belong to the subreddit gaming is 20000 and 7158 record urls in this subbreddit contains the string - \".jpg\".\n",
        "\n",
        "Although the result shows that for the subreddit pics, the probability of url containing \".jpg\" is really high (90%), there are 7158 record urls in subreddit gaming containg \".jpg\". So the large quantity for subreddit gaming may affect the classification result.\n",
        "\n",
        "In this case, url is not a good indicator for the classification task in terms of the possibility and quantity represented by the url.\n"
      ]
    },
    {
      "cell_type": "code",
      "metadata": {
        "id": "r9C_MzNPeh7r",
        "colab_type": "code",
        "colab": {
          "base_uri": "https://localhost:8080/",
          "height": 221
        },
        "outputId": "6e73b1f7-8027-4be6-8263-888bc6ffa264"
      },
      "source": [
        "'''\n",
        "Subreddit pics urls\n",
        "'''\n",
        "data[data['subreddit']==\"pics\"]['url']"
      ],
      "execution_count": 15,
      "outputs": [
        {
          "output_type": "execute_result",
          "data": {
            "text/plain": [
              "1         https://i.redd.it/j6rqqthwcp721.jpg\n",
              "5         https://i.redd.it/063lwxm0dp721.jpg\n",
              "13        https://i.redd.it/nkcs1p8adp721.jpg\n",
              "14        https://i.redd.it/kphnhymddp721.jpg\n",
              "20        https://i.redd.it/jzyd4nhodp721.jpg\n",
              "                         ...                 \n",
              "226115    https://i.redd.it/aga2yqk6dud21.jpg\n",
              "226127    https://i.redd.it/t3svo9sjdud21.jpg\n",
              "226151        https://i.imgur.com/LfGFTnf.jpg\n",
              "226169    https://i.redd.it/bu1api8kgud21.jpg\n",
              "226174    https://i.redd.it/et3gm8ntgud21.jpg\n",
              "Name: url, Length: 5897, dtype: object"
            ]
          },
          "metadata": {
            "tags": []
          },
          "execution_count": 15
        }
      ]
    },
    {
      "cell_type": "code",
      "metadata": {
        "id": "VM5JZqjffMBo",
        "colab_type": "code",
        "colab": {
          "base_uri": "https://localhost:8080/",
          "height": 255
        },
        "outputId": "7db10eb9-a41d-49f2-e467-2c4ecb443c32"
      },
      "source": [
        "'''\n",
        "Subreddit pics urls containing \".jpg\"\n",
        "'''\n",
        "data[data['subreddit']==\"pics\"][data.url.str.contains(\".jpg\")]['url']"
      ],
      "execution_count": 16,
      "outputs": [
        {
          "output_type": "stream",
          "text": [
            "/usr/local/lib/python3.6/dist-packages/ipykernel_launcher.py:4: UserWarning: Boolean Series key will be reindexed to match DataFrame index.\n",
            "  after removing the cwd from sys.path.\n"
          ],
          "name": "stderr"
        },
        {
          "output_type": "execute_result",
          "data": {
            "text/plain": [
              "1         https://i.redd.it/j6rqqthwcp721.jpg\n",
              "5         https://i.redd.it/063lwxm0dp721.jpg\n",
              "13        https://i.redd.it/nkcs1p8adp721.jpg\n",
              "14        https://i.redd.it/kphnhymddp721.jpg\n",
              "20        https://i.redd.it/jzyd4nhodp721.jpg\n",
              "                         ...                 \n",
              "226115    https://i.redd.it/aga2yqk6dud21.jpg\n",
              "226127    https://i.redd.it/t3svo9sjdud21.jpg\n",
              "226151        https://i.imgur.com/LfGFTnf.jpg\n",
              "226169    https://i.redd.it/bu1api8kgud21.jpg\n",
              "226174    https://i.redd.it/et3gm8ntgud21.jpg\n",
              "Name: url, Length: 5310, dtype: object"
            ]
          },
          "metadata": {
            "tags": []
          },
          "execution_count": 16
        }
      ]
    },
    {
      "cell_type": "code",
      "metadata": {
        "id": "G53tFYE4lyn7",
        "colab_type": "code",
        "colab": {
          "base_uri": "https://localhost:8080/",
          "height": 221
        },
        "outputId": "cc19cf26-7f1a-4bc1-93a1-8bd00b138ca6"
      },
      "source": [
        "'''\n",
        "Subreddit news urls\n",
        "'''\n",
        "data[data['subreddit']==\"news\"]['url']"
      ],
      "execution_count": 17,
      "outputs": [
        {
          "output_type": "execute_result",
          "data": {
            "text/plain": [
              "43        https://apnews.com/e7ea3c368d7146aa9c3989f19d9...\n",
              "50        https://www.ademcetinkaya.com/2018/12/bulls-be...\n",
              "153       https://www.theguardian.com/us-news/2018/dec/3...\n",
              "155       https://www.worldreligionnews.com/religion-new...\n",
              "167       https://www.reuters.com/article/us-usa-defense...\n",
              "                                ...                        \n",
              "225595    https://www.wdrb.com/news/louisville-leaders-v...\n",
              "225710    https://www-cbc-ca.cdn.ampproject.org/v/s/www....\n",
              "225867    https://www.nbcnews.com/news/us-news/girl-scou...\n",
              "225987    https://www.cbc.ca/news/canada/ottawa/uk-boy-a...\n",
              "226192    https://kfoxtv.com/news/nation-world/live-trum...\n",
              "Name: url, Length: 4775, dtype: object"
            ]
          },
          "metadata": {
            "tags": []
          },
          "execution_count": 17
        }
      ]
    },
    {
      "cell_type": "code",
      "metadata": {
        "id": "ahVwgVa7l65E",
        "colab_type": "code",
        "colab": {
          "base_uri": "https://localhost:8080/",
          "height": 68
        },
        "outputId": "c83a634d-62ed-4d74-d5e2-a49f9f7e3918"
      },
      "source": [
        "'''\n",
        "Subreddit news urls containing \".jpg\"\n",
        "'''\n",
        "data[data['subreddit']==\"news\"][data.url.str.contains(\".jpg\")]['url']"
      ],
      "execution_count": 18,
      "outputs": [
        {
          "output_type": "stream",
          "text": [
            "/usr/local/lib/python3.6/dist-packages/ipykernel_launcher.py:4: UserWarning: Boolean Series key will be reindexed to match DataFrame index.\n",
            "  after removing the cwd from sys.path.\n"
          ],
          "name": "stderr"
        },
        {
          "output_type": "execute_result",
          "data": {
            "text/plain": [
              "Series([], Name: url, dtype: object)"
            ]
          },
          "metadata": {
            "tags": []
          },
          "execution_count": 18
        }
      ]
    },
    {
      "cell_type": "code",
      "metadata": {
        "id": "QmueT-uaqQdd",
        "colab_type": "code",
        "colab": {
          "base_uri": "https://localhost:8080/",
          "height": 221
        },
        "outputId": "0fe9c412-dafc-4e9e-e9cd-32e1ab217a25"
      },
      "source": [
        "'''\n",
        "Subreddit WTF urls\n",
        "'''\n",
        "data[data['subreddit']==\"WTF\"]['url']"
      ],
      "execution_count": 19,
      "outputs": [
        {
          "output_type": "execute_result",
          "data": {
            "text/plain": [
              "62                  https://imgur.com/qo8VGhH\n",
              "68            https://v.redd.it/29z073bcfp721\n",
              "99            https://v.redd.it/rimy41jhgp721\n",
              "154       https://i.redd.it/l5jo5rnxom721.jpg\n",
              "206              https://youtu.be/gPM1N_KFk5c\n",
              "                         ...                 \n",
              "225924    https://i.redd.it/8pu6hrdh6ud21.jpg\n",
              "225953              https://imgur.com/Ffb6D26\n",
              "225980    https://i.redd.it/w8oa5u1f8ud21.jpg\n",
              "226082      https://i.imgur.com/Pw09RDE.jpg?1\n",
              "226133        https://v.redd.it/zprubpagdud21\n",
              "Name: url, Length: 4939, dtype: object"
            ]
          },
          "metadata": {
            "tags": []
          },
          "execution_count": 19
        }
      ]
    },
    {
      "cell_type": "code",
      "metadata": {
        "id": "M2t-vIxFrZn1",
        "colab_type": "code",
        "colab": {
          "base_uri": "https://localhost:8080/",
          "height": 255
        },
        "outputId": "2c5898e0-aed0-434e-81a1-cf8421b1eec5"
      },
      "source": [
        "'''\n",
        "Subreddit WTF urls containing \".jpg\"\n",
        "'''\n",
        "data[data['subreddit']==\"WTF\"][data.url.str.contains(\".jpg\")]['url']"
      ],
      "execution_count": 20,
      "outputs": [
        {
          "output_type": "stream",
          "text": [
            "/usr/local/lib/python3.6/dist-packages/ipykernel_launcher.py:4: UserWarning: Boolean Series key will be reindexed to match DataFrame index.\n",
            "  after removing the cwd from sys.path.\n"
          ],
          "name": "stderr"
        },
        {
          "output_type": "execute_result",
          "data": {
            "text/plain": [
              "154       https://i.redd.it/l5jo5rnxom721.jpg\n",
              "346       https://i.redd.it/8h3owgiaqp721.jpg\n",
              "499       https://i.redd.it/7rwcasv1wp721.jpg\n",
              "551       https://i.redd.it/qmccn3mkyp721.jpg\n",
              "554       https://i.redd.it/n3idqdiyyp721.jpg\n",
              "                         ...                 \n",
              "225880        https://i.imgur.com/tJaLIIJ.jpg\n",
              "225917    https://i.redd.it/06qwa68r5ud21.jpg\n",
              "225924    https://i.redd.it/8pu6hrdh6ud21.jpg\n",
              "225980    https://i.redd.it/w8oa5u1f8ud21.jpg\n",
              "226082      https://i.imgur.com/Pw09RDE.jpg?1\n",
              "Name: url, Length: 2030, dtype: object"
            ]
          },
          "metadata": {
            "tags": []
          },
          "execution_count": 20
        }
      ]
    },
    {
      "cell_type": "code",
      "metadata": {
        "id": "FNntrxDkrZmb",
        "colab_type": "code",
        "colab": {
          "base_uri": "https://localhost:8080/",
          "height": 221
        },
        "outputId": "c1d621bb-50ef-404d-ad74-e67bf2e86581"
      },
      "source": [
        "'''\n",
        "Subreddit gaming urls\n",
        "'''\n",
        "data[data['subreddit']==\"gaming\"]['url']"
      ],
      "execution_count": 21,
      "outputs": [
        {
          "output_type": "execute_result",
          "data": {
            "text/plain": [
              "0         https://www.reddit.com/r/gaming/comments/abcup...\n",
              "6         https://www.reddit.com/r/gaming/comments/abcv8...\n",
              "8                       https://i.redd.it/30cad4s3dp721.jpg\n",
              "21        https://www.reddit.com/r/gaming/comments/abcwk...\n",
              "22                      https://i.redd.it/gusnviisdp721.jpg\n",
              "                                ...                        \n",
              "226188    https://i.imgur.com/QYTBL51_d.jpg?maxwidth=640...\n",
              "226199    https://www.reddit.com/r/gaming/comments/alvrn...\n",
              "226206                  https://i.redd.it/2jaumjvcjud21.jpg\n",
              "226218            https://gfycat.com/HairyBlaringAmurminnow\n",
              "226234                  https://i.redd.it/wrcnua6vkud21.jpg\n",
              "Name: url, Length: 20000, dtype: object"
            ]
          },
          "metadata": {
            "tags": []
          },
          "execution_count": 21
        }
      ]
    },
    {
      "cell_type": "code",
      "metadata": {
        "id": "bBX9tou0rgQa",
        "colab_type": "code",
        "colab": {
          "base_uri": "https://localhost:8080/",
          "height": 255
        },
        "outputId": "0139253d-57d4-451a-d5d9-07a955dc6c16"
      },
      "source": [
        "'''\n",
        "Subreddit gaming urls containing \".jpg\"\n",
        "'''\n",
        "data[data['subreddit']==\"gaming\"][data.url.str.contains(\".jpg\")]['url']"
      ],
      "execution_count": 22,
      "outputs": [
        {
          "output_type": "stream",
          "text": [
            "/usr/local/lib/python3.6/dist-packages/ipykernel_launcher.py:4: UserWarning: Boolean Series key will be reindexed to match DataFrame index.\n",
            "  after removing the cwd from sys.path.\n"
          ],
          "name": "stderr"
        },
        {
          "output_type": "execute_result",
          "data": {
            "text/plain": [
              "8                       https://i.redd.it/30cad4s3dp721.jpg\n",
              "22                      https://i.redd.it/gusnviisdp721.jpg\n",
              "24                      https://i.redd.it/jt3a2koxdp721.jpg\n",
              "52                      https://i.redd.it/202pjoj4fp721.jpg\n",
              "70                      https://i.redd.it/mbfavg7mfp721.jpg\n",
              "                                ...                        \n",
              "226173                  https://i.redd.it/a7hrcf9sgud21.jpg\n",
              "226180                  https://i.redd.it/7dc2jb18hud21.jpg\n",
              "226188    https://i.imgur.com/QYTBL51_d.jpg?maxwidth=640...\n",
              "226206                  https://i.redd.it/2jaumjvcjud21.jpg\n",
              "226234                  https://i.redd.it/wrcnua6vkud21.jpg\n",
              "Name: url, Length: 7158, dtype: object"
            ]
          },
          "metadata": {
            "tags": []
          },
          "execution_count": 22
        }
      ]
    },
    {
      "cell_type": "markdown",
      "metadata": {
        "id": "-bU7Duz0prOL",
        "colab_type": "text"
      },
      "source": [
        "#### 4. Column: selftext\n",
        "\n",
        "When I analyze this column, firstly I remove all the rows containing \"[deleted]\".\n",
        "For subreddits pics, WTF and news, all rows do not have selftext value.\n",
        "For the gaming subreddit, it has many rows with \"[removed]\" value. Then I remove all the rows containing \"[removed]\", I get 6199 rows containging various kinds of content.\n",
        "\n",
        "Selftext can be a good feature in identifying gaming subreddit."
      ]
    },
    {
      "cell_type": "code",
      "metadata": {
        "id": "TGnjC4p2qDZK",
        "colab_type": "code",
        "colab": {
          "base_uri": "https://localhost:8080/",
          "height": 255
        },
        "outputId": "13fe4f11-f4aa-491b-8e87-ba52911449f9"
      },
      "source": [
        "'''\n",
        "Subreddit pics selftext rows not with \"[deleted]\"\n",
        "'''\n",
        "data[data['subreddit']==\"pics\"][data['selftext']!=\"[deleted]\"]['selftext']"
      ],
      "execution_count": 23,
      "outputs": [
        {
          "output_type": "stream",
          "text": [
            "/usr/local/lib/python3.6/dist-packages/ipykernel_launcher.py:4: UserWarning: Boolean Series key will be reindexed to match DataFrame index.\n",
            "  after removing the cwd from sys.path.\n"
          ],
          "name": "stderr"
        },
        {
          "output_type": "execute_result",
          "data": {
            "text/plain": [
              "1          \n",
              "5          \n",
              "13         \n",
              "20         \n",
              "37         \n",
              "         ..\n",
              "226085     \n",
              "226115     \n",
              "226127     \n",
              "226169     \n",
              "226174     \n",
              "Name: selftext, Length: 4398, dtype: object"
            ]
          },
          "metadata": {
            "tags": []
          },
          "execution_count": 23
        }
      ]
    },
    {
      "cell_type": "code",
      "metadata": {
        "id": "l4x5Mq4Tp9q8",
        "colab_type": "code",
        "colab": {
          "base_uri": "https://localhost:8080/",
          "height": 68
        },
        "outputId": "f2ffac1d-8f16-413f-a3cd-887d490a1e16"
      },
      "source": [
        "'''\n",
        "Subreddit pics selftext rows not with \"[deleted]\" and not empty\n",
        "'''\n",
        "data[data['subreddit']==\"pics\"][data['selftext']!=\"[deleted]\"][data['selftext']!=\"\"]['selftext']"
      ],
      "execution_count": 24,
      "outputs": [
        {
          "output_type": "stream",
          "text": [
            "/usr/local/lib/python3.6/dist-packages/ipykernel_launcher.py:4: UserWarning: Boolean Series key will be reindexed to match DataFrame index.\n",
            "  after removing the cwd from sys.path.\n"
          ],
          "name": "stderr"
        },
        {
          "output_type": "execute_result",
          "data": {
            "text/plain": [
              "Series([], Name: selftext, dtype: object)"
            ]
          },
          "metadata": {
            "tags": []
          },
          "execution_count": 24
        }
      ]
    },
    {
      "cell_type": "code",
      "metadata": {
        "id": "W6hul53Ytter",
        "colab_type": "code",
        "colab": {
          "base_uri": "https://localhost:8080/",
          "height": 255
        },
        "outputId": "3b8ffd7a-f373-45b0-ace3-92a96566bf25"
      },
      "source": [
        "'''\n",
        "Subreddit news selftext rows not with \"[deleted]\"\n",
        "'''\n",
        "data[data['subreddit']==\"news\"][data['selftext']!=\"[deleted]\"]['selftext']"
      ],
      "execution_count": 25,
      "outputs": [
        {
          "output_type": "stream",
          "text": [
            "/usr/local/lib/python3.6/dist-packages/ipykernel_launcher.py:4: UserWarning: Boolean Series key will be reindexed to match DataFrame index.\n",
            "  after removing the cwd from sys.path.\n"
          ],
          "name": "stderr"
        },
        {
          "output_type": "execute_result",
          "data": {
            "text/plain": [
              "43         \n",
              "50         \n",
              "155        \n",
              "282        \n",
              "300        \n",
              "         ..\n",
              "225595     \n",
              "225710     \n",
              "225867     \n",
              "225987     \n",
              "226192     \n",
              "Name: selftext, Length: 4216, dtype: object"
            ]
          },
          "metadata": {
            "tags": []
          },
          "execution_count": 25
        }
      ]
    },
    {
      "cell_type": "code",
      "metadata": {
        "id": "WCLLi1H5tvNx",
        "colab_type": "code",
        "colab": {
          "base_uri": "https://localhost:8080/",
          "height": 68
        },
        "outputId": "c855b7de-3185-4e11-b066-44f38a76a8ee"
      },
      "source": [
        "'''\n",
        "Subreddit news selftext rows not with \"[deleted]\" and not empty\n",
        "'''\n",
        "data[data['subreddit']==\"news\"][data['selftext']!=\"[deleted]\"][data['selftext']!=\"\"]['selftext']"
      ],
      "execution_count": 26,
      "outputs": [
        {
          "output_type": "stream",
          "text": [
            "/usr/local/lib/python3.6/dist-packages/ipykernel_launcher.py:4: UserWarning: Boolean Series key will be reindexed to match DataFrame index.\n",
            "  after removing the cwd from sys.path.\n"
          ],
          "name": "stderr"
        },
        {
          "output_type": "execute_result",
          "data": {
            "text/plain": [
              "Series([], Name: selftext, dtype: object)"
            ]
          },
          "metadata": {
            "tags": []
          },
          "execution_count": 26
        }
      ]
    },
    {
      "cell_type": "code",
      "metadata": {
        "id": "4q3QanuQtvGq",
        "colab_type": "code",
        "colab": {
          "base_uri": "https://localhost:8080/",
          "height": 255
        },
        "outputId": "64400286-6031-4728-f60f-51a83d6bde2e"
      },
      "source": [
        "'''\n",
        "Subreddit WTF selftext rows not with \"[deleted]\"\n",
        "'''\n",
        "data[data['subreddit']==\"WTF\"][data['selftext']!=\"[deleted]\"]['selftext']"
      ],
      "execution_count": 27,
      "outputs": [
        {
          "output_type": "stream",
          "text": [
            "/usr/local/lib/python3.6/dist-packages/ipykernel_launcher.py:4: UserWarning: Boolean Series key will be reindexed to match DataFrame index.\n",
            "  after removing the cwd from sys.path.\n"
          ],
          "name": "stderr"
        },
        {
          "output_type": "execute_result",
          "data": {
            "text/plain": [
              "68         \n",
              "99         \n",
              "154        \n",
              "206        \n",
              "289        \n",
              "         ..\n",
              "225917     \n",
              "225924     \n",
              "225953     \n",
              "225980     \n",
              "226133     \n",
              "Name: selftext, Length: 2931, dtype: object"
            ]
          },
          "metadata": {
            "tags": []
          },
          "execution_count": 27
        }
      ]
    },
    {
      "cell_type": "code",
      "metadata": {
        "id": "xQqcP4wxtu_y",
        "colab_type": "code",
        "colab": {
          "base_uri": "https://localhost:8080/",
          "height": 68
        },
        "outputId": "2f900279-79ff-4ae4-dfc3-6cb6e428893d"
      },
      "source": [
        "'''\n",
        "Subreddit WTF selftext rows not with \"[deleted]\" and not empty\n",
        "'''\n",
        "data[data['subreddit']==\"WTF\"][data['selftext']!=\"[deleted]\"][data['selftext']!=\"\"]['selftext']"
      ],
      "execution_count": 28,
      "outputs": [
        {
          "output_type": "stream",
          "text": [
            "/usr/local/lib/python3.6/dist-packages/ipykernel_launcher.py:4: UserWarning: Boolean Series key will be reindexed to match DataFrame index.\n",
            "  after removing the cwd from sys.path.\n"
          ],
          "name": "stderr"
        },
        {
          "output_type": "execute_result",
          "data": {
            "text/plain": [
              "Series([], Name: selftext, dtype: object)"
            ]
          },
          "metadata": {
            "tags": []
          },
          "execution_count": 28
        }
      ]
    },
    {
      "cell_type": "code",
      "metadata": {
        "id": "7nR0yhcutu40",
        "colab_type": "code",
        "colab": {
          "base_uri": "https://localhost:8080/",
          "height": 255
        },
        "outputId": "2112622b-746a-4888-d856-2389038ce8b8"
      },
      "source": [
        "'''\n",
        "Subreddit gaming selftext rows not with \"[deleted]\" and \"[removed]\"\n",
        "'''\n",
        "data[data['subreddit']==\"gaming\"][data['selftext']!=\"[deleted]\"][data['selftext']!=\"[removed]\"]['selftext']"
      ],
      "execution_count": 29,
      "outputs": [
        {
          "output_type": "stream",
          "text": [
            "/usr/local/lib/python3.6/dist-packages/ipykernel_launcher.py:4: UserWarning: Boolean Series key will be reindexed to match DataFrame index.\n",
            "  after removing the cwd from sys.path.\n"
          ],
          "name": "stderr"
        },
        {
          "output_type": "execute_result",
          "data": {
            "text/plain": [
              "0         Got a new laptop and want to enjoy some games ...\n",
              "6         Title says it all...\\n\\nXbox 1 s controller no...\n",
              "8                                                          \n",
              "21                                                         \n",
              "22                                                         \n",
              "                                ...                        \n",
              "226188                                                     \n",
              "226199                                            And why! \n",
              "226206                                                     \n",
              "226218                                                     \n",
              "226234                                                     \n",
              "Name: selftext, Length: 16318, dtype: object"
            ]
          },
          "metadata": {
            "tags": []
          },
          "execution_count": 29
        }
      ]
    },
    {
      "cell_type": "code",
      "metadata": {
        "id": "jrg3s3uPtuik",
        "colab_type": "code",
        "colab": {
          "base_uri": "https://localhost:8080/",
          "height": 255
        },
        "outputId": "62c8a226-0a01-4757-f35f-d04b138ae0ee"
      },
      "source": [
        "'''\n",
        "Subreddit pics selftext rows not with \"[deleted]\", \"[removed]\" and not empty\n",
        "'''\n",
        "data[data['subreddit']==\"gaming\"][data['selftext']!=\"[deleted]\"][data['selftext']!=\"[removed]\"][data['selftext']!=\"\"]['selftext']"
      ],
      "execution_count": 30,
      "outputs": [
        {
          "output_type": "stream",
          "text": [
            "/usr/local/lib/python3.6/dist-packages/ipykernel_launcher.py:4: UserWarning: Boolean Series key will be reindexed to match DataFrame index.\n",
            "  after removing the cwd from sys.path.\n"
          ],
          "name": "stderr"
        },
        {
          "output_type": "execute_result",
          "data": {
            "text/plain": [
              "0         Got a new laptop and want to enjoy some games ...\n",
              "6         Title says it all...\\n\\nXbox 1 s controller no...\n",
              "121       I just don't get it, I've been playing games f...\n",
              "143       I usually end up breaking the left bumper on m...\n",
              "164       I grew up with MechWarrior 3, and i never see ...\n",
              "                                ...                        \n",
              "226084    I started a gaming channel on YouTube! Not nec...\n",
              "226093    It just seems to be the last thing that I can'...\n",
              "226158    So if I pay $1.50 AUD for the first month of o...\n",
              "226161    I’ve heard mixed reviews, so as a bit of backg...\n",
              "226199                                            And why! \n",
              "Name: selftext, Length: 6199, dtype: object"
            ]
          },
          "metadata": {
            "tags": []
          },
          "execution_count": 30
        }
      ]
    },
    {
      "cell_type": "code",
      "metadata": {
        "id": "1Bmui901_TZG",
        "colab_type": "code",
        "colab": {
          "base_uri": "https://localhost:8080/",
          "height": 419
        },
        "outputId": "ff10a623-5bb2-4bcd-d417-86d570a6ce6d"
      },
      "source": [
        "data[data['selftext']==\"[deleted]\"]"
      ],
      "execution_count": 31,
      "outputs": [
        {
          "output_type": "execute_result",
          "data": {
            "text/html": [
              "<div>\n",
              "<style scoped>\n",
              "    .dataframe tbody tr th:only-of-type {\n",
              "        vertical-align: middle;\n",
              "    }\n",
              "\n",
              "    .dataframe tbody tr th {\n",
              "        vertical-align: top;\n",
              "    }\n",
              "\n",
              "    .dataframe thead th {\n",
              "        text-align: right;\n",
              "    }\n",
              "</style>\n",
              "<table border=\"1\" class=\"dataframe\">\n",
              "  <thead>\n",
              "    <tr style=\"text-align: right;\">\n",
              "      <th></th>\n",
              "      <th>id</th>\n",
              "      <th>author</th>\n",
              "      <th>created_utc</th>\n",
              "      <th>subreddit</th>\n",
              "      <th>title</th>\n",
              "      <th>num_comments</th>\n",
              "      <th>score</th>\n",
              "      <th>selftext</th>\n",
              "      <th>url</th>\n",
              "    </tr>\n",
              "  </thead>\n",
              "  <tbody>\n",
              "    <tr>\n",
              "      <th>14</th>\n",
              "      <td>abcvv8</td>\n",
              "      <td>[deleted]</td>\n",
              "      <td>1546301042</td>\n",
              "      <td>pics</td>\n",
              "      <td>Have a happy 2019 you sexy people!</td>\n",
              "      <td>3</td>\n",
              "      <td>46</td>\n",
              "      <td>[deleted]</td>\n",
              "      <td>https://i.redd.it/kphnhymddp721.jpg</td>\n",
              "    </tr>\n",
              "    <tr>\n",
              "      <th>62</th>\n",
              "      <td>abcztm</td>\n",
              "      <td>[deleted]</td>\n",
              "      <td>1546301712</td>\n",
              "      <td>WTF</td>\n",
              "      <td>PSA - Sodie Pop Addiction</td>\n",
              "      <td>16</td>\n",
              "      <td>6</td>\n",
              "      <td>[deleted]</td>\n",
              "      <td>https://imgur.com/qo8VGhH</td>\n",
              "    </tr>\n",
              "    <tr>\n",
              "      <th>72</th>\n",
              "      <td>abd0cx</td>\n",
              "      <td>[deleted]</td>\n",
              "      <td>1546301802</td>\n",
              "      <td>gaming</td>\n",
              "      <td>Zombie games?</td>\n",
              "      <td>25</td>\n",
              "      <td>2</td>\n",
              "      <td>[deleted]</td>\n",
              "      <td>https://www.reddit.com/r/gaming/comments/abd0c...</td>\n",
              "    </tr>\n",
              "    <tr>\n",
              "      <th>153</th>\n",
              "      <td>abd66g</td>\n",
              "      <td>[deleted]</td>\n",
              "      <td>1546302890</td>\n",
              "      <td>news</td>\n",
              "      <td>Elizabeth Warren is running – here are 10 othe...</td>\n",
              "      <td>0</td>\n",
              "      <td>1</td>\n",
              "      <td>[deleted]</td>\n",
              "      <td>https://www.theguardian.com/us-news/2018/dec/3...</td>\n",
              "    </tr>\n",
              "    <tr>\n",
              "      <th>167</th>\n",
              "      <td>abd6uv</td>\n",
              "      <td>[deleted]</td>\n",
              "      <td>1546303025</td>\n",
              "      <td>news</td>\n",
              "      <td>U.S. Navy pursuing block buy of two aircraft c...</td>\n",
              "      <td>0</td>\n",
              "      <td>0</td>\n",
              "      <td>[deleted]</td>\n",
              "      <td>https://www.reuters.com/article/us-usa-defense...</td>\n",
              "    </tr>\n",
              "    <tr>\n",
              "      <th>...</th>\n",
              "      <td>...</td>\n",
              "      <td>...</td>\n",
              "      <td>...</td>\n",
              "      <td>...</td>\n",
              "      <td>...</td>\n",
              "      <td>...</td>\n",
              "      <td>...</td>\n",
              "      <td>...</td>\n",
              "      <td>...</td>\n",
              "    </tr>\n",
              "    <tr>\n",
              "      <th>226082</th>\n",
              "      <td>alvj6r</td>\n",
              "      <td>[deleted]</td>\n",
              "      <td>1548976212</td>\n",
              "      <td>WTF</td>\n",
              "      <td>I have no idea..</td>\n",
              "      <td>9</td>\n",
              "      <td>3</td>\n",
              "      <td>[deleted]</td>\n",
              "      <td>https://i.imgur.com/Pw09RDE.jpg?1</td>\n",
              "    </tr>\n",
              "    <tr>\n",
              "      <th>226089</th>\n",
              "      <td>alvjuh</td>\n",
              "      <td>[deleted]</td>\n",
              "      <td>1548976319</td>\n",
              "      <td>gaming</td>\n",
              "      <td>Nintendo announces 'Dr. Mario' mobile game com...</td>\n",
              "      <td>5</td>\n",
              "      <td>11</td>\n",
              "      <td>[deleted]</td>\n",
              "      <td>https://i.redd.it/og4874nccud21.jpg</td>\n",
              "    </tr>\n",
              "    <tr>\n",
              "      <th>226120</th>\n",
              "      <td>alvlzm</td>\n",
              "      <td>[deleted]</td>\n",
              "      <td>1548976660</td>\n",
              "      <td>gaming</td>\n",
              "      <td>Just finished pencil drawing sketch de_cache :...</td>\n",
              "      <td>7</td>\n",
              "      <td>94</td>\n",
              "      <td>[deleted]</td>\n",
              "      <td>https://i.redd.it/qxgrjn3ddud21.jpg</td>\n",
              "    </tr>\n",
              "    <tr>\n",
              "      <th>226151</th>\n",
              "      <td>alvo6b</td>\n",
              "      <td>[deleted]</td>\n",
              "      <td>1548977303</td>\n",
              "      <td>pics</td>\n",
              "      <td>Emma Stone as a blonde</td>\n",
              "      <td>4</td>\n",
              "      <td>44</td>\n",
              "      <td>[deleted]</td>\n",
              "      <td>https://i.imgur.com/LfGFTnf.jpg</td>\n",
              "    </tr>\n",
              "    <tr>\n",
              "      <th>226157</th>\n",
              "      <td>alvolu</td>\n",
              "      <td>[deleted]</td>\n",
              "      <td>1548977458</td>\n",
              "      <td>gaming</td>\n",
              "      <td>Weapon leveling in real life</td>\n",
              "      <td>7</td>\n",
              "      <td>9</td>\n",
              "      <td>[deleted]</td>\n",
              "      <td>https://youtu.be/mhJXVvf7v2w</td>\n",
              "    </tr>\n",
              "  </tbody>\n",
              "</table>\n",
              "<p>7033 rows × 9 columns</p>\n",
              "</div>"
            ],
            "text/plain": [
              "            id  ...                                                url\n",
              "14      abcvv8  ...                https://i.redd.it/kphnhymddp721.jpg\n",
              "62      abcztm  ...                          https://imgur.com/qo8VGhH\n",
              "72      abd0cx  ...  https://www.reddit.com/r/gaming/comments/abd0c...\n",
              "153     abd66g  ...  https://www.theguardian.com/us-news/2018/dec/3...\n",
              "167     abd6uv  ...  https://www.reuters.com/article/us-usa-defense...\n",
              "...        ...  ...                                                ...\n",
              "226082  alvj6r  ...                  https://i.imgur.com/Pw09RDE.jpg?1\n",
              "226089  alvjuh  ...                https://i.redd.it/og4874nccud21.jpg\n",
              "226120  alvlzm  ...                https://i.redd.it/qxgrjn3ddud21.jpg\n",
              "226151  alvo6b  ...                    https://i.imgur.com/LfGFTnf.jpg\n",
              "226157  alvolu  ...                       https://youtu.be/mhJXVvf7v2w\n",
              "\n",
              "[7033 rows x 9 columns]"
            ]
          },
          "metadata": {
            "tags": []
          },
          "execution_count": 31
        }
      ]
    },
    {
      "cell_type": "markdown",
      "metadata": {
        "id": "AgoL7gDyx6RB",
        "colab_type": "text"
      },
      "source": [
        "### (b)\n",
        "\n",
        "I keep the dollar sign ($) and stars (*) in the data. I choose to remove the rows with deleted author value because these rows information is not completed , which means that the rows with selftext value = \"[delted]\" are also removed. Because in the previous analysis, the self text content can be very useful in identifying gaming subreddit from all the possible subreddits. What's more, the author can potentially be an important feature in the classification as the same author is more likely to post on the same subreddit."
      ]
    },
    {
      "cell_type": "code",
      "metadata": {
        "id": "tsUXG1qQ-3ag",
        "colab_type": "code",
        "colab": {}
      },
      "source": [
        "clean_data = data[data['author']!=\"[deleted]\"][[\"id\",\"author\", \"subreddit\", \"title\", \"num_comments\", \"score\", \"selftext\", \"url\"]]"
      ],
      "execution_count": 0,
      "outputs": []
    },
    {
      "cell_type": "markdown",
      "metadata": {
        "id": "0v_zbmEE-VzJ",
        "colab_type": "text"
      },
      "source": [
        "### (c) Data balance issue\n",
        "The data is not balanced. For the subreddits WTF, news pics, they have approximately 5000 rows individually. However, gaming subreddit has 20000 rows and that is more than the half of the number of all rows.\n",
        "\n",
        "\n",
        "For the cleaned data, as we can see in the cell below, its output table shows that the WTF subreddit only has 2878 rows and gaming subreddit has 16696 rows. The number of news and pics subreddit rows are roughly equal, around 4200 rows individually.\n"
      ]
    },
    {
      "cell_type": "code",
      "metadata": {
        "id": "MmClbjQa_gnB",
        "colab_type": "code",
        "colab": {
          "base_uri": "https://localhost:8080/",
          "height": 119
        },
        "outputId": "0b094951-13e5-4411-cc26-fc59805acecb"
      },
      "source": [
        "data.groupby('subreddit').size()"
      ],
      "execution_count": 46,
      "outputs": [
        {
          "output_type": "execute_result",
          "data": {
            "text/plain": [
              "subreddit\n",
              "WTF        4939\n",
              "gaming    20000\n",
              "news       4775\n",
              "pics       5897\n",
              "dtype: int64"
            ]
          },
          "metadata": {
            "tags": []
          },
          "execution_count": 46
        }
      ]
    },
    {
      "cell_type": "code",
      "metadata": {
        "id": "HUOorNvnx9YH",
        "colab_type": "code",
        "colab": {
          "base_uri": "https://localhost:8080/",
          "height": 119
        },
        "outputId": "df613669-5d4f-410b-b658-d9d45fd51658"
      },
      "source": [
        "clean_data.groupby('subreddit').size()"
      ],
      "execution_count": 47,
      "outputs": [
        {
          "output_type": "execute_result",
          "data": {
            "text/plain": [
              "subreddit\n",
              "WTF        2878\n",
              "gaming    16696\n",
              "news       4189\n",
              "pics       4358\n",
              "dtype: int64"
            ]
          },
          "metadata": {
            "tags": []
          },
          "execution_count": 47
        }
      ]
    },
    {
      "cell_type": "code",
      "metadata": {
        "id": "kklMhwicNmb8",
        "colab_type": "code",
        "colab": {
          "base_uri": "https://localhost:8080/",
          "height": 419
        },
        "outputId": "5230c0dc-6721-4144-e604-8d4096853719"
      },
      "source": [
        "clean_data"
      ],
      "execution_count": 45,
      "outputs": [
        {
          "output_type": "execute_result",
          "data": {
            "text/html": [
              "<div>\n",
              "<style scoped>\n",
              "    .dataframe tbody tr th:only-of-type {\n",
              "        vertical-align: middle;\n",
              "    }\n",
              "\n",
              "    .dataframe tbody tr th {\n",
              "        vertical-align: top;\n",
              "    }\n",
              "\n",
              "    .dataframe thead th {\n",
              "        text-align: right;\n",
              "    }\n",
              "</style>\n",
              "<table border=\"1\" class=\"dataframe\">\n",
              "  <thead>\n",
              "    <tr style=\"text-align: right;\">\n",
              "      <th></th>\n",
              "      <th>id</th>\n",
              "      <th>author</th>\n",
              "      <th>subreddit</th>\n",
              "      <th>title</th>\n",
              "      <th>num_comments</th>\n",
              "      <th>score</th>\n",
              "      <th>selftext</th>\n",
              "      <th>url</th>\n",
              "    </tr>\n",
              "  </thead>\n",
              "  <tbody>\n",
              "    <tr>\n",
              "      <th>0</th>\n",
              "      <td>abcupx</td>\n",
              "      <td>WithGravy</td>\n",
              "      <td>gaming</td>\n",
              "      <td>What are some game games to enjoy on a low-end...</td>\n",
              "      <td>31</td>\n",
              "      <td>3</td>\n",
              "      <td>Got a new laptop and want to enjoy some games ...</td>\n",
              "      <td>https://www.reddit.com/r/gaming/comments/abcup...</td>\n",
              "    </tr>\n",
              "    <tr>\n",
              "      <th>1</th>\n",
              "      <td>abcuz2</td>\n",
              "      <td>mikebeingfrank</td>\n",
              "      <td>pics</td>\n",
              "      <td>In 1964, an average wage worker had to clock 8...</td>\n",
              "      <td>4</td>\n",
              "      <td>5</td>\n",
              "      <td></td>\n",
              "      <td>https://i.redd.it/j6rqqthwcp721.jpg</td>\n",
              "    </tr>\n",
              "    <tr>\n",
              "      <th>5</th>\n",
              "      <td>abcv7e</td>\n",
              "      <td>RyanGwood12</td>\n",
              "      <td>pics</td>\n",
              "      <td>Here’s a reminder to grab one of these for a b...</td>\n",
              "      <td>12</td>\n",
              "      <td>0</td>\n",
              "      <td></td>\n",
              "      <td>https://i.redd.it/063lwxm0dp721.jpg</td>\n",
              "    </tr>\n",
              "    <tr>\n",
              "      <th>6</th>\n",
              "      <td>abcv8x</td>\n",
              "      <td>suen05csus</td>\n",
              "      <td>gaming</td>\n",
              "      <td>Xbox 1 s controller not discovered via bluetoo...</td>\n",
              "      <td>7</td>\n",
              "      <td>3</td>\n",
              "      <td>Title says it all...\\n\\nXbox 1 s controller no...</td>\n",
              "      <td>https://www.reddit.com/r/gaming/comments/abcv8...</td>\n",
              "    </tr>\n",
              "    <tr>\n",
              "      <th>8</th>\n",
              "      <td>abcvdf</td>\n",
              "      <td>IAmNightbreed</td>\n",
              "      <td>gaming</td>\n",
              "      <td>The local Walmart did not sell even one copy o...</td>\n",
              "      <td>24</td>\n",
              "      <td>43</td>\n",
              "      <td></td>\n",
              "      <td>https://i.redd.it/30cad4s3dp721.jpg</td>\n",
              "    </tr>\n",
              "    <tr>\n",
              "      <th>...</th>\n",
              "      <td>...</td>\n",
              "      <td>...</td>\n",
              "      <td>...</td>\n",
              "      <td>...</td>\n",
              "      <td>...</td>\n",
              "      <td>...</td>\n",
              "      <td>...</td>\n",
              "      <td>...</td>\n",
              "    </tr>\n",
              "    <tr>\n",
              "      <th>226192</th>\n",
              "      <td>alvr42</td>\n",
              "      <td>kjvlv</td>\n",
              "      <td>news</td>\n",
              "      <td>President Trump signs Goodlatte Music Moderniz...</td>\n",
              "      <td>10</td>\n",
              "      <td>4</td>\n",
              "      <td></td>\n",
              "      <td>https://kfoxtv.com/news/nation-world/live-trum...</td>\n",
              "    </tr>\n",
              "    <tr>\n",
              "      <th>226199</th>\n",
              "      <td>alvrna</td>\n",
              "      <td>alhorfordisanallstar</td>\n",
              "      <td>gaming</td>\n",
              "      <td>In a vacuum, do you prefer to play games that ...</td>\n",
              "      <td>7</td>\n",
              "      <td>4</td>\n",
              "      <td>And why!</td>\n",
              "      <td>https://www.reddit.com/r/gaming/comments/alvrn...</td>\n",
              "    </tr>\n",
              "    <tr>\n",
              "      <th>226206</th>\n",
              "      <td>alvs4a</td>\n",
              "      <td>Forever-AsianMexico</td>\n",
              "      <td>gaming</td>\n",
              "      <td>So glad</td>\n",
              "      <td>5</td>\n",
              "      <td>33</td>\n",
              "      <td></td>\n",
              "      <td>https://i.redd.it/2jaumjvcjud21.jpg</td>\n",
              "    </tr>\n",
              "    <tr>\n",
              "      <th>226218</th>\n",
              "      <td>alvsyd</td>\n",
              "      <td>HuntBoston1508</td>\n",
              "      <td>gaming</td>\n",
              "      <td>Physics gaming</td>\n",
              "      <td>11</td>\n",
              "      <td>29</td>\n",
              "      <td></td>\n",
              "      <td>https://gfycat.com/HairyBlaringAmurminnow</td>\n",
              "    </tr>\n",
              "    <tr>\n",
              "      <th>226234</th>\n",
              "      <td>alvtub</td>\n",
              "      <td>beapledude</td>\n",
              "      <td>gaming</td>\n",
              "      <td>Apartment Life (And no more fighting over the TV)</td>\n",
              "      <td>778</td>\n",
              "      <td>17886</td>\n",
              "      <td></td>\n",
              "      <td>https://i.redd.it/wrcnua6vkud21.jpg</td>\n",
              "    </tr>\n",
              "  </tbody>\n",
              "</table>\n",
              "<p>28121 rows × 8 columns</p>\n",
              "</div>"
            ],
            "text/plain": [
              "            id  ...                                                url\n",
              "0       abcupx  ...  https://www.reddit.com/r/gaming/comments/abcup...\n",
              "1       abcuz2  ...                https://i.redd.it/j6rqqthwcp721.jpg\n",
              "5       abcv7e  ...                https://i.redd.it/063lwxm0dp721.jpg\n",
              "6       abcv8x  ...  https://www.reddit.com/r/gaming/comments/abcv8...\n",
              "8       abcvdf  ...                https://i.redd.it/30cad4s3dp721.jpg\n",
              "...        ...  ...                                                ...\n",
              "226192  alvr42  ...  https://kfoxtv.com/news/nation-world/live-trum...\n",
              "226199  alvrna  ...  https://www.reddit.com/r/gaming/comments/alvrn...\n",
              "226206  alvs4a  ...                https://i.redd.it/2jaumjvcjud21.jpg\n",
              "226218  alvsyd  ...          https://gfycat.com/HairyBlaringAmurminnow\n",
              "226234  alvtub  ...                https://i.redd.it/wrcnua6vkud21.jpg\n",
              "\n",
              "[28121 rows x 8 columns]"
            ]
          },
          "metadata": {
            "tags": []
          },
          "execution_count": 45
        }
      ]
    },
    {
      "cell_type": "markdown",
      "metadata": {
        "id": "sMtnHFDfB6-5",
        "colab_type": "text"
      },
      "source": [
        "### (d) Generate X and y"
      ]
    },
    {
      "cell_type": "code",
      "metadata": {
        "id": "_vxcVdoLCWTt",
        "colab_type": "code",
        "colab": {}
      },
      "source": [
        "def getTopKTitle(df, k):\n",
        "  lemmatizer = WordNetLemmatizer() \n",
        "  titles = df['title'].values\n",
        "    \n",
        "  stop = set(stopwords.words('english'))\n",
        "  stop.add(\"...\")\n",
        "  stop.add(\"n't\")\n",
        "  stop.add(\"'ve\")\n",
        "  stop.add(\"'re\")\n",
        "  \n",
        "  counter = Counter()\n",
        "  for title in titles:\n",
        "          counter.update([lemmatizer.lemmatize(word_set)\n",
        "                          for word_set\n",
        "                          in nltk.word_tokenize(title)\n",
        "                          if lemmatizer.lemmatize(word_set).lower() not in stop and len(lemmatizer.lemmatize(word_set)) > 2])\n",
        "\n",
        "  topk = counter.most_common(k)\n",
        "  return topk\n",
        "\n",
        "def getTopKText(df, k):\n",
        "  lemmatizer = WordNetLemmatizer() \n",
        "  selftexts = df['selftext'].values\n",
        "\n",
        "  stop = set(stopwords.words('english'))\n",
        "  stop.add(\"...\")\n",
        "  stop.add(\"n't\")\n",
        "  stop.add(\"'ve\")\n",
        "  stop.add(\"'re\")\n",
        "  \n",
        "  counter = Counter()  \n",
        "  for selftext in selftexts:\n",
        "          counter.update([lemmatizer.lemmatize(word_set)\n",
        "                          for word_set\n",
        "                          in nltk.word_tokenize(selftext)\n",
        "                          if lemmatizer.lemmatize(word_set).lower() not in stop and len(lemmatizer.lemmatize(word_set)) > 2])\n",
        "  topk = counter.most_common(k)\n",
        "  return topk\n",
        "\n",
        "def binary_improved_data(df, num_words = 1000):\n",
        "    # getTopKText(df, num_words)\n",
        "    lemmatizer = WordNetLemmatizer() \n",
        "    word_Title_list = [word for (word, freq) in getTopKTitle(df, num_words)]\n",
        "    word_Text_list = [word for (word, freq) in getTopKText(df, num_words)]\n",
        "    stop = set(stopwords.words('english'))\n",
        "    stop.add(\"...\")\n",
        "    stop.add(\"n't\")\n",
        "    stop.add(\"'ve\")\n",
        "    stop.add(\"'re\")\n",
        "    df_rows = []\n",
        "    titles = df['title'].values\n",
        "    selftexts = df['selftext'].values\n",
        "    for i in range(len(titles)):\n",
        "      row_title_words = [lemmatizer.lemmatize(word_set)\n",
        "                          for word_set\n",
        "                          in nltk.word_tokenize(titles[i])\n",
        "                          if lemmatizer.lemmatize(word_set).lower() not in stop and len(lemmatizer.lemmatize(word_set)) > 2]\n",
        "      row_text_words =  [lemmatizer.lemmatize(word_set)\n",
        "                          for word_set\n",
        "                          in nltk.word_tokenize(selftexts[i])\n",
        "                          if lemmatizer.lemmatize(word_set).lower() not in stop and len(lemmatizer.lemmatize(word_set)) > 2]\n",
        "      df_rows.append([1 if word in row_title_words else 0 for word in word_Title_list]\n",
        "                     + [1 if word in row_text_words else 0 for word in word_Text_list])\n",
        "\n",
        "    X = pd.DataFrame(df_rows, columns = word_Title_list + word_Text_list)\n",
        "    y = df['subreddit'].tolist()\n",
        "\n",
        "    # validate return types\n",
        "    assert isinstance(X, pd.DataFrame) and isinstance(y, list), \"return types\"\n",
        "    \n",
        "    return X, y"
      ],
      "execution_count": 0,
      "outputs": []
    },
    {
      "cell_type": "code",
      "metadata": {
        "id": "I8RqZVkbOJUr",
        "colab_type": "code",
        "colab": {}
      },
      "source": [
        "'''\n",
        "Generate X and y for the classification task\n",
        "'''\n",
        "X, y = binary_improved_data(clean_data, 1000)"
      ],
      "execution_count": 0,
      "outputs": []
    },
    {
      "cell_type": "markdown",
      "metadata": {
        "id": "HAVkquoHz36D",
        "colab_type": "text"
      },
      "source": [
        "## Part 3: Classification\n",
        "\n",
        "In the training classification model section, I randomly split the data into 70% of training data and 30% of testing data. The reason I do not use cross validation is that the overfitting is not a problem when I train and validate the model.\n",
        "\n",
        "I choose three classification algorithms and they are Logistic regression, SVM and Multinomial Naive Bayes. The metric candidates are precision, recall and accuracy. The precision is TP/(TP + FP). The recall is TP/(TP + FP). The accuracy is (TP + TN)/(TP + FP + FN + TN). In the end, I choose the accuracy as my metric beacuse I focus on minimized both the False Negatives and False Positives. The precision will be used if I focus more on minimising the False Negative and the recall will be used if I focus more on minimising the False Positives.\n",
        "\n",
        "For the feature selection, in total, I have 2000 features. The first 1000 features are the top 1000 most common words from the title. The second 1000 features are the top 1000 most common words from the selftext. For the logistic regression, both train and test accuracy score increases until 60 percent of features been used. After the 60 percent of features been used, the train accuracy stays the same and the test accuracy slightly increases. For the SVM, the train accuracy drops after 40 percent of features been used but the test accuracy still increase and drops a little after 60 percent of features been used. For Multinomial Naive Bayes, both train and test accuracy drops after 40 percent of features been used. The worst test accuracy for all feature selection results for all model is still higher than 60 percent.\n",
        "\n",
        "One more thing for the feature selection, when I say 60 percent of features been used, It means that the top 1000 popular words in the topic and top 100 popular words in the selftext. Based on the result from the feature selections for all models, it implies that the top 1000 popular words from selftext is not informative, and even can make the model more confused.\n",
        "\n",
        "For the hyperparameter tuning, I tune inverse regularization parameter, which regulates against overfitting, for the Logistic Regression and SVM model. The best hyperparameter value for Logistic Regression and SVM is 1.0. For the Multinomial Naive Bayes model, I tune the smoothing parameter and its best value is 0.003.\n",
        "\n",
        "Combining the results from feature selection and hyperparameter tuning, the best model is Logistic Regression with all features and hyparameter value c=1. I can get 72 percent test accuracy.\n",
        "\n",
        "\n",
        "\n",
        "\\#: TP: True Positive; FP: False Positive; FN: False Negative; TN: True Negative\n"
      ]
    },
    {
      "cell_type": "code",
      "metadata": {
        "id": "wiNgIcZBEpXl",
        "colab_type": "code",
        "colab": {
          "base_uri": "https://localhost:8080/",
          "height": 187
        },
        "outputId": "d5ed0546-ba9a-4bca-e57d-eb72d4a57fea"
      },
      "source": [
        "'''\n",
        "The model selected finally\n",
        "'''\n",
        "X_train, X_test, y_train, y_test = train_test_split(X, y, test_size=0.3, random_state=42)\n",
        "\n",
        "# train a logistic regression classifier\n",
        "clf = LogisticRegression(C=1.0).fit(X_train, y_train)\n",
        "\n",
        "# predict on train and test set\n",
        "y_train_predict = clf.predict(X_train)\n",
        "y_test_predict = clf.predict(X_test)\n",
        "\n",
        "# calculate train and test accuracy\n",
        "train_accuracy = accuracy_score(y_train, y_train_predict)\n",
        "test_accuracy = accuracy_score(y_test, y_test_predict)\n",
        "\n",
        "\n",
        "# report results\n",
        "print(\"Train accuracy: {}\".format(train_accuracy))\n",
        "print(\"Test accuracy: {}\".format(test_accuracy))"
      ],
      "execution_count": 40,
      "outputs": [
        {
          "output_type": "stream",
          "text": [
            "/usr/local/lib/python3.6/dist-packages/sklearn/linear_model/_logistic.py:940: ConvergenceWarning: lbfgs failed to converge (status=1):\n",
            "STOP: TOTAL NO. of ITERATIONS REACHED LIMIT.\n",
            "\n",
            "Increase the number of iterations (max_iter) or scale the data as shown in:\n",
            "    https://scikit-learn.org/stable/modules/preprocessing.html\n",
            "Please also refer to the documentation for alternative solver options:\n",
            "    https://scikit-learn.org/stable/modules/linear_model.html#logistic-regression\n",
            "  extra_warning_msg=_LOGISTIC_SOLVER_CONVERGENCE_MSG)\n"
          ],
          "name": "stderr"
        },
        {
          "output_type": "stream",
          "text": [
            "Train accuracy: 0.7561979272505588\n",
            "Test accuracy: 0.7206352969064833\n"
          ],
          "name": "stdout"
        }
      ]
    },
    {
      "cell_type": "code",
      "metadata": {
        "id": "7kpCkx511NQK",
        "colab_type": "code",
        "colab": {}
      },
      "source": [
        "def feature_num(X, y, classify_model):\n",
        "    # result_list is a list of tuples (num_features, train_accuracy, test_accuracy)\n",
        "    # where numFeatures is the number of words used as features\n",
        "    result_list = []\n",
        "    \n",
        "    X_train, X_test, y_train, y_test = train_test_split(X, y, test_size=0.3, random_state=42)\n",
        "    \n",
        "    for p in [0.1, 0.2, 0.4, 0.6, 0.8, 1.0]:\n",
        "        subset_size = int(p*X.shape[1])\n",
        "        X_train_subset = X_train.iloc[:, 0:subset_size]\n",
        "        X_test_subset = X_test.iloc[:, 0:subset_size]\n",
        "        # Write your code here to calculate train_accuracy and test_accuracy for the current subset of features\n",
        "        # ......\n",
        "        clf = classify_model.fit(X_train_subset, y_train)\n",
        "\n",
        "        y_train_predict = clf.predict(X_train_subset)\n",
        "        y_test_predict = clf.predict(X_test_subset)\n",
        "        # train_results.append(accuracy_score(y_train, y_train_predict))\n",
        "        # test_results.append(accuracy_score(y_test, y_test_predict))\n",
        "\n",
        "        train_accuracy = accuracy_score(y_train, y_train_predict)\n",
        "        test_accuracy = accuracy_score(y_test, y_test_predict)\n",
        "        # add to result_list\n",
        "        result_list.append((p, train_accuracy, test_accuracy))\n",
        "        \n",
        "    # Make a dataframe of the results\n",
        "    result_df = pd.DataFrame(result_list, columns=[\"num_features\", \"train_accuracy\", \"test_accuracy\"])\n",
        "    \n",
        "    # validate return type\n",
        "    \n",
        "    return result_df\n",
        "\n"
      ],
      "execution_count": 0,
      "outputs": []
    },
    {
      "cell_type": "code",
      "metadata": {
        "id": "fVVaCFyl1QcF",
        "colab_type": "code",
        "colab": {
          "base_uri": "https://localhost:8080/",
          "height": 1000
        },
        "outputId": "dbee985b-bcde-4366-92f1-dce6bb5f309b"
      },
      "source": [
        "'''\n",
        "Feature set selection for logistic model\n",
        "'''\n",
        "log_feature_num_df = feature_num(X, y, LogisticRegression(C=1.0))\n",
        "log_feature_num_df.plot(x=\"num_features\", y=[\"train_accuracy\", \"test_accuracy\"])"
      ],
      "execution_count": 164,
      "outputs": [
        {
          "output_type": "stream",
          "text": [
            "/usr/local/lib/python3.6/dist-packages/sklearn/linear_model/_logistic.py:940: ConvergenceWarning: lbfgs failed to converge (status=1):\n",
            "STOP: TOTAL NO. of ITERATIONS REACHED LIMIT.\n",
            "\n",
            "Increase the number of iterations (max_iter) or scale the data as shown in:\n",
            "    https://scikit-learn.org/stable/modules/preprocessing.html\n",
            "Please also refer to the documentation for alternative solver options:\n",
            "    https://scikit-learn.org/stable/modules/linear_model.html#logistic-regression\n",
            "  extra_warning_msg=_LOGISTIC_SOLVER_CONVERGENCE_MSG)\n",
            "/usr/local/lib/python3.6/dist-packages/sklearn/linear_model/_logistic.py:940: ConvergenceWarning: lbfgs failed to converge (status=1):\n",
            "STOP: TOTAL NO. of ITERATIONS REACHED LIMIT.\n",
            "\n",
            "Increase the number of iterations (max_iter) or scale the data as shown in:\n",
            "    https://scikit-learn.org/stable/modules/preprocessing.html\n",
            "Please also refer to the documentation for alternative solver options:\n",
            "    https://scikit-learn.org/stable/modules/linear_model.html#logistic-regression\n",
            "  extra_warning_msg=_LOGISTIC_SOLVER_CONVERGENCE_MSG)\n",
            "/usr/local/lib/python3.6/dist-packages/sklearn/linear_model/_logistic.py:940: ConvergenceWarning: lbfgs failed to converge (status=1):\n",
            "STOP: TOTAL NO. of ITERATIONS REACHED LIMIT.\n",
            "\n",
            "Increase the number of iterations (max_iter) or scale the data as shown in:\n",
            "    https://scikit-learn.org/stable/modules/preprocessing.html\n",
            "Please also refer to the documentation for alternative solver options:\n",
            "    https://scikit-learn.org/stable/modules/linear_model.html#logistic-regression\n",
            "  extra_warning_msg=_LOGISTIC_SOLVER_CONVERGENCE_MSG)\n",
            "/usr/local/lib/python3.6/dist-packages/sklearn/linear_model/_logistic.py:940: ConvergenceWarning: lbfgs failed to converge (status=1):\n",
            "STOP: TOTAL NO. of ITERATIONS REACHED LIMIT.\n",
            "\n",
            "Increase the number of iterations (max_iter) or scale the data as shown in:\n",
            "    https://scikit-learn.org/stable/modules/preprocessing.html\n",
            "Please also refer to the documentation for alternative solver options:\n",
            "    https://scikit-learn.org/stable/modules/linear_model.html#logistic-regression\n",
            "  extra_warning_msg=_LOGISTIC_SOLVER_CONVERGENCE_MSG)\n",
            "/usr/local/lib/python3.6/dist-packages/sklearn/linear_model/_logistic.py:940: ConvergenceWarning: lbfgs failed to converge (status=1):\n",
            "STOP: TOTAL NO. of ITERATIONS REACHED LIMIT.\n",
            "\n",
            "Increase the number of iterations (max_iter) or scale the data as shown in:\n",
            "    https://scikit-learn.org/stable/modules/preprocessing.html\n",
            "Please also refer to the documentation for alternative solver options:\n",
            "    https://scikit-learn.org/stable/modules/linear_model.html#logistic-regression\n",
            "  extra_warning_msg=_LOGISTIC_SOLVER_CONVERGENCE_MSG)\n",
            "/usr/local/lib/python3.6/dist-packages/sklearn/linear_model/_logistic.py:940: ConvergenceWarning: lbfgs failed to converge (status=1):\n",
            "STOP: TOTAL NO. of ITERATIONS REACHED LIMIT.\n",
            "\n",
            "Increase the number of iterations (max_iter) or scale the data as shown in:\n",
            "    https://scikit-learn.org/stable/modules/preprocessing.html\n",
            "Please also refer to the documentation for alternative solver options:\n",
            "    https://scikit-learn.org/stable/modules/linear_model.html#logistic-regression\n",
            "  extra_warning_msg=_LOGISTIC_SOLVER_CONVERGENCE_MSG)\n"
          ],
          "name": "stderr"
        },
        {
          "output_type": "execute_result",
          "data": {
            "text/plain": [
              "<matplotlib.axes._subplots.AxesSubplot at 0x7f769f061b70>"
            ]
          },
          "metadata": {
            "tags": []
          },
          "execution_count": 164
        },
        {
          "output_type": "display_data",
          "data": {
            "image/png": "[encoded data removed]",
            "text/plain": [
              "<Figure size 432x288 with 1 Axes>"
            ]
          },
          "metadata": {
            "tags": [],
            "needs_background": "light"
          }
        }
      ]
    },
    {
      "cell_type": "code",
      "metadata": {
        "id": "kF5hodNu3scx",
        "colab_type": "code",
        "colab": {
          "base_uri": "https://localhost:8080/",
          "height": 297
        },
        "outputId": "de2259bc-164f-4991-9584-8ca29173c071"
      },
      "source": [
        "'''\n",
        "Feature set selection for SVM model\n",
        "'''\n",
        "svm_feature_num_df = feature_num(X, y, svm.SVC())\n",
        "svm_feature_num_df.plot(x=\"num_features\", y=[\"train_accuracy\", \"test_accuracy\"])"
      ],
      "execution_count": 167,
      "outputs": [
        {
          "output_type": "execute_result",
          "data": {
            "text/plain": [
              "<matplotlib.axes._subplots.AxesSubplot at 0x7f769ef83d68>"
            ]
          },
          "metadata": {
            "tags": []
          },
          "execution_count": 167
        },
        {
          "output_type": "display_data",
          "data": {
            "image/png": "[encoded data removed]",
            "text/plain": [
              "<Figure size 432x288 with 1 Axes>"
            ]
          },
          "metadata": {
            "tags": [],
            "needs_background": "light"
          }
        }
      ]
    },
    {
      "cell_type": "code",
      "metadata": {
        "id": "VSvZ5wNX39lX",
        "colab_type": "code",
        "colab": {
          "base_uri": "https://localhost:8080/",
          "height": 297
        },
        "outputId": "5d110f82-bbb1-4794-dd6a-b84b361b295f"
      },
      "source": [
        "'''\n",
        "Feature set selection for Multinomial Naive Bayes\n",
        "'''\n",
        "MNB_feature_num_df = feature_num(X, y, MultinomialNB())\n",
        "MNB_feature_num_df.plot(x=\"num_features\", y=[\"train_accuracy\", \"test_accuracy\"])"
      ],
      "execution_count": 166,
      "outputs": [
        {
          "output_type": "execute_result",
          "data": {
            "text/plain": [
              "<matplotlib.axes._subplots.AxesSubplot at 0x7f769f047550>"
            ]
          },
          "metadata": {
            "tags": []
          },
          "execution_count": 166
        },
        {
          "output_type": "display_data",
          "data": {
            "image/png": "[encoded data removed]",
            "text/plain": [
              "<Figure size 432x288 with 1 Axes>"
            ]
          },
          "metadata": {
            "tags": [],
            "needs_background": "light"
          }
        }
      ]
    },
    {
      "cell_type": "code",
      "metadata": {
        "id": "dRG1I71RIN7n",
        "colab_type": "code",
        "colab": {}
      },
      "source": [
        "def hyperparameter(X, y):\n",
        "    # result_list is a list of tuples (num_features, train_accuracy, test_accuracy)\n",
        "    # where numFeatures is the number of words used as features\n",
        "    result_list = []\n",
        "    \n",
        "    X_train, X_test, y_train, y_test = train_test_split(X, y, test_size=0.3, random_state=42)\n",
        "    \n",
        "    for param in [0.001, 0.01, 0.1, 1, 10, 100, 1000]:\n",
        "        # Write your code here to calculate train_accuracy and test_accuracy for the current parameter value\n",
        "        # ......\n",
        "        clf = LogisticRegression(C=param).fit(X_train, y_train)\n",
        "        y_train_predict = clf.predict(X_train)\n",
        "        y_test_predict = clf.predict(X_test)\n",
        "        train_accuracy = accuracy_score(y_train, y_train_predict)\n",
        "        test_accuracy = accuracy_score(y_test, y_test_predict)\n",
        "        \n",
        "        # add to result_list\n",
        "        result_list.append((param, train_accuracy, test_accuracy))\n",
        "        \n",
        "    # Make a dataframe of the results\n",
        "    result_df = pd.DataFrame(result_list, columns=[\"param\", \"train_accuracy\", \"test_accuracy\"])\n",
        "    \n",
        "    # validate return type\n",
        "    assert isinstance(result_df, pd.DataFrame), \"return type\"\n",
        "    \n",
        "    return result_df\n",
        "\n",
        "def hyperparameterSVM(X, y):\n",
        "    # result_list is a list of tuples (num_features, train_accuracy, test_accuracy)\n",
        "    # where numFeatures is the number of words used as features\n",
        "    result_list = []\n",
        "    \n",
        "    X_train, X_test, y_train, y_test = train_test_split(X, y, test_size=0.3, random_state=42)\n",
        "    \n",
        "    for param in [0.001, 0.01, 0.1, 1, 10, 100, 1000]:\n",
        "        # Write your code here to calculate train_accuracy and test_accuracy for the current parameter value\n",
        "        # ......\n",
        "        clf = svm.SVC(C=param).fit(X_train, y_train)\n",
        "        y_train_predict = clf.predict(X_train)\n",
        "        y_test_predict = clf.predict(X_test)\n",
        "        train_accuracy = accuracy_score(y_train, y_train_predict)\n",
        "        test_accuracy = accuracy_score(y_test, y_test_predict)\n",
        "        \n",
        "        # add to result_list\n",
        "        result_list.append((param, train_accuracy, test_accuracy))\n",
        "        \n",
        "    # Make a dataframe of the results\n",
        "    result_df = pd.DataFrame(result_list, columns=[\"param\", \"train_accuracy\", \"test_accuracy\"])\n",
        "    \n",
        "    # validate return type\n",
        "    assert isinstance(result_df, pd.DataFrame), \"return type\"\n",
        "    \n",
        "    return result_df\n",
        "\n",
        "def hyperparameterNB(X, y):\n",
        "    # result_list is a list of tuples (num_features, train_accuracy, test_accuracy)\n",
        "    # where numFeatures is the number of words used as features\n",
        "    result_list = []\n",
        "    \n",
        "    X_train, X_test, y_train, y_test = train_test_split(X, y, test_size=0.3, random_state=42)\n",
        "    \n",
        "    for param in [0.001, 0.01, 0.1, 1, 10, 100, 1000]:\n",
        "        # Write your code here to calculate train_accuracy and test_accuracy for the current parameter value\n",
        "        # ......\n",
        "        clf = MultinomialNB(alpha=param).fit(X_train, y_train)\n",
        "        y_train_predict = clf.predict(X_train)\n",
        "        y_test_predict = clf.predict(X_test)\n",
        "        train_accuracy = accuracy_score(y_train, y_train_predict)\n",
        "        test_accuracy = accuracy_score(y_test, y_test_predict)\n",
        "        \n",
        "        # add to result_list\n",
        "        result_list.append((param, train_accuracy, test_accuracy))\n",
        "        \n",
        "    # Make a dataframe of the results\n",
        "    result_df = pd.DataFrame(result_list, columns=[\"param\", \"train_accuracy\", \"test_accuracy\"])\n",
        "    \n",
        "    # validate return type\n",
        "    assert isinstance(result_df, pd.DataFrame), \"return type\"\n",
        "    \n",
        "    return result_df"
      ],
      "execution_count": 0,
      "outputs": []
    },
    {
      "cell_type": "code",
      "metadata": {
        "id": "PQbmSFLIJois",
        "colab_type": "code",
        "colab": {
          "base_uri": "https://localhost:8080/",
          "height": 844
        },
        "outputId": "987544c5-609e-441c-dab1-6af2dcc2f537"
      },
      "source": [
        "'''\n",
        "Hyper parameter tuning for logistic model\n",
        "'''\n",
        "param_df = hyperparameter(X, y)\n",
        "param_df.plot(x=\"param\", y=[\"train_accuracy\", \"test_accuracy\"], logx=True)"
      ],
      "execution_count": 169,
      "outputs": [
        {
          "output_type": "stream",
          "text": [
            "/usr/local/lib/python3.6/dist-packages/sklearn/linear_model/_logistic.py:940: ConvergenceWarning: lbfgs failed to converge (status=1):\n",
            "STOP: TOTAL NO. of ITERATIONS REACHED LIMIT.\n",
            "\n",
            "Increase the number of iterations (max_iter) or scale the data as shown in:\n",
            "    https://scikit-learn.org/stable/modules/preprocessing.html\n",
            "Please also refer to the documentation for alternative solver options:\n",
            "    https://scikit-learn.org/stable/modules/linear_model.html#logistic-regression\n",
            "  extra_warning_msg=_LOGISTIC_SOLVER_CONVERGENCE_MSG)\n",
            "/usr/local/lib/python3.6/dist-packages/sklearn/linear_model/_logistic.py:940: ConvergenceWarning: lbfgs failed to converge (status=1):\n",
            "STOP: TOTAL NO. of ITERATIONS REACHED LIMIT.\n",
            "\n",
            "Increase the number of iterations (max_iter) or scale the data as shown in:\n",
            "    https://scikit-learn.org/stable/modules/preprocessing.html\n",
            "Please also refer to the documentation for alternative solver options:\n",
            "    https://scikit-learn.org/stable/modules/linear_model.html#logistic-regression\n",
            "  extra_warning_msg=_LOGISTIC_SOLVER_CONVERGENCE_MSG)\n",
            "/usr/local/lib/python3.6/dist-packages/sklearn/linear_model/_logistic.py:940: ConvergenceWarning: lbfgs failed to converge (status=1):\n",
            "STOP: TOTAL NO. of ITERATIONS REACHED LIMIT.\n",
            "\n",
            "Increase the number of iterations (max_iter) or scale the data as shown in:\n",
            "    https://scikit-learn.org/stable/modules/preprocessing.html\n",
            "Please also refer to the documentation for alternative solver options:\n",
            "    https://scikit-learn.org/stable/modules/linear_model.html#logistic-regression\n",
            "  extra_warning_msg=_LOGISTIC_SOLVER_CONVERGENCE_MSG)\n",
            "/usr/local/lib/python3.6/dist-packages/sklearn/linear_model/_logistic.py:940: ConvergenceWarning: lbfgs failed to converge (status=1):\n",
            "STOP: TOTAL NO. of ITERATIONS REACHED LIMIT.\n",
            "\n",
            "Increase the number of iterations (max_iter) or scale the data as shown in:\n",
            "    https://scikit-learn.org/stable/modules/preprocessing.html\n",
            "Please also refer to the documentation for alternative solver options:\n",
            "    https://scikit-learn.org/stable/modules/linear_model.html#logistic-regression\n",
            "  extra_warning_msg=_LOGISTIC_SOLVER_CONVERGENCE_MSG)\n"
          ],
          "name": "stderr"
        },
        {
          "output_type": "execute_result",
          "data": {
            "text/plain": [
              "<matplotlib.axes._subplots.AxesSubplot at 0x7f769f2d3b00>"
            ]
          },
          "metadata": {
            "tags": []
          },
          "execution_count": 169
        },
        {
          "output_type": "display_data",
          "data": {
            "image/png": "[encoded data removed]",
            "text/plain": [
              "<Figure size 432x288 with 1 Axes>"
            ]
          },
          "metadata": {
            "tags": [],
            "needs_background": "light"
          }
        }
      ]
    },
    {
      "cell_type": "code",
      "metadata": {
        "id": "ZU3fO9dtJyhc",
        "colab_type": "code",
        "colab": {
          "base_uri": "https://localhost:8080/",
          "height": 300
        },
        "outputId": "7b99f97b-24ce-4895-e597-6de721f5f987"
      },
      "source": [
        "'''\n",
        "Hyper parameter tuning for SVM model\n",
        "'''\n",
        "param_df = hyperparameterSVM(X, y)\n",
        "param_df.plot(x=\"param\", y=[\"train_accuracy\", \"test_accuracy\"], logx=True)"
      ],
      "execution_count": 43,
      "outputs": [
        {
          "output_type": "execute_result",
          "data": {
            "text/plain": [
              "<matplotlib.axes._subplots.AxesSubplot at 0x7f667e69f198>"
            ]
          },
          "metadata": {
            "tags": []
          },
          "execution_count": 43
        },
        {
          "output_type": "display_data",
          "data": {
            "image/png": "[encoded data removed]",
            "text/plain": [
              "<Figure size 432x288 with 1 Axes>"
            ]
          },
          "metadata": {
            "tags": [],
            "needs_background": "light"
          }
        }
      ]
    },
    {
      "cell_type": "code",
      "metadata": {
        "id": "O6zo8DMDJ2Wb",
        "colab_type": "code",
        "colab": {
          "base_uri": "https://localhost:8080/",
          "height": 300
        },
        "outputId": "4c631921-bab5-4ba8-d027-c4cb4fd04276"
      },
      "source": [
        "'''\n",
        "Hyper parameter tuning for Multinomial Naive Bayes model\n",
        "'''\n",
        "param_df = hyperparameterNB(X, y)\n",
        "param_df.plot(x=\"param\", y=[\"train_accuracy\", \"test_accuracy\"], logx=True)"
      ],
      "execution_count": 44,
      "outputs": [
        {
          "output_type": "execute_result",
          "data": {
            "text/plain": [
              "<matplotlib.axes._subplots.AxesSubplot at 0x7f667d744ba8>"
            ]
          },
          "metadata": {
            "tags": []
          },
          "execution_count": 44
        },
        {
          "output_type": "display_data",
          "data": {
            "image/png": "[encoded data removed]",
            "text/plain": [
              "<Figure size 432x288 with 1 Axes>"
            ]
          },
          "metadata": {
            "tags": [],
            "needs_background": "light"
          }
        }
      ]
    },
    {
      "cell_type": "markdown",
      "metadata": {
        "id": "eTMvHqnzz36E",
        "colab_type": "text"
      },
      "source": [
        "## Part 4: Sentiment Analysis"
      ]
    },
    {
      "cell_type": "code",
      "metadata": {
        "id": "y8dX8vjZ1mCT",
        "colab_type": "code",
        "colab": {}
      },
      "source": [
        "def evalSentences(sentences, to_df=False, columns=[]):\n",
        "    #Instantiate an instance to access SentimentIntensityAnalyzer class\n",
        "    sid = SentimentIntensityAnalyzer()\n",
        "    pdlist = []\n",
        "    if to_df:\n",
        "        for sentence in tqdm(sentences):\n",
        "            ss = sid.polarity_scores(sentence)\n",
        "            pdlist.append([sentence]+[ss['compound']])\n",
        "        reviewDf = pd.DataFrame(pdlist)\n",
        "        reviewDf.columns = columns\n",
        "        return reviewDf\n",
        "    \n",
        "    else:\n",
        "        for sentence in tqdm(sentences):\n",
        "            print(sentence)\n",
        "            ss = sid.polarity_scores(sentence)\n",
        "            for k in sorted(ss):\n",
        "                print('{0}: {1}, '.format(k, ss[k]), end='')\n",
        "            print()\n",
        "\n",
        "def getHistogram(finaldf, measure, title):\n",
        "    if measure=='both':\n",
        "        x = [finaldf['ratingScore'].values/5]\n",
        "        y = [finaldf['vader'].values]\n",
        "        bins = np.linspace(-1, 1, 100)\n",
        "        plt.title(title)\n",
        "        plt.hist(x, bins, label='x')\n",
        "        plt.hist(y, bins, label='y')\n",
        "        plt.legend(loc='upper right')\n",
        "        plt.show()\n",
        "    \n",
        "    else:\n",
        "        plt.hist(finaldf[measure].values)\n",
        "        plt.title(title)\n",
        "        plt.xlabel(measure)\n",
        "        plt.ylabel(\"Frequency\")\n",
        "        fig = plt.gcf()"
      ],
      "execution_count": 0,
      "outputs": []
    },
    {
      "cell_type": "markdown",
      "metadata": {
        "id": "7WjQSYxJ7Rik",
        "colab_type": "text"
      },
      "source": [
        "### a."
      ]
    },
    {
      "cell_type": "code",
      "metadata": {
        "id": "POe1P8DS4w32",
        "colab_type": "code",
        "colab": {
          "base_uri": "https://localhost:8080/",
          "height": 312
        },
        "outputId": "2b2eb906-2527-41e3-8804-3581437a6c12"
      },
      "source": [
        "'''\n",
        "Vader distribution for news\n",
        "'''\n",
        "news_titles = data[data['subreddit']=='news']['title'].values\n",
        "news_titlesDF = evalSentences(news_titles, to_df=True, columns=['title','vader'])\n",
        "getHistogram(news_titlesDF, 'vader', 'news vader distribution')"
      ],
      "execution_count": 66,
      "outputs": [
        {
          "output_type": "stream",
          "text": [
            "100%|██████████| 4775/4775 [00:00<00:00, 6281.27it/s]\n"
          ],
          "name": "stderr"
        },
        {
          "output_type": "display_data",
          "data": {
            "image/png": "[encoded data removed]",
            "text/plain": [
              "<Figure size 432x288 with 1 Axes>"
            ]
          },
          "metadata": {
            "tags": [],
            "needs_background": "light"
          }
        }
      ]
    },
    {
      "cell_type": "code",
      "metadata": {
        "id": "o1PFeoTf5XxK",
        "colab_type": "code",
        "colab": {
          "base_uri": "https://localhost:8080/",
          "height": 312
        },
        "outputId": "ca9bfd0f-f11b-4bcb-fd21-49b5fa9ee567"
      },
      "source": [
        "'''\n",
        "Vader distribution for pics\n",
        "'''\n",
        "pics_titles = data[data['subreddit']=='pics']['title'].values\n",
        "pics_titlesDF = evalSentences(pics_titles, to_df=True, columns=['title','vader'])\n",
        "getHistogram(pics_titlesDF, 'vader', 'pics vader distribution')"
      ],
      "execution_count": 67,
      "outputs": [
        {
          "output_type": "stream",
          "text": [
            "100%|██████████| 5897/5897 [00:00<00:00, 6925.17it/s]\n"
          ],
          "name": "stderr"
        },
        {
          "output_type": "display_data",
          "data": {
            "image/png": "[encoded data removed]",
            "text/plain": [
              "<Figure size 432x288 with 1 Axes>"
            ]
          },
          "metadata": {
            "tags": [],
            "needs_background": "light"
          }
        }
      ]
    },
    {
      "cell_type": "code",
      "metadata": {
        "id": "0SJUc29K59n0",
        "colab_type": "code",
        "colab": {
          "base_uri": "https://localhost:8080/",
          "height": 312
        },
        "outputId": "7988e566-8164-4436-be35-ea0f18e61215"
      },
      "source": [
        "'''\n",
        "Vader distribution for gaming\n",
        "'''\n",
        "gaming_titles = data[data['subreddit']=='gaming']['title'].values\n",
        "gaming_titlesDF = evalSentences(gaming_titles, to_df=True, columns=['title','vader'])\n",
        "getHistogram(gaming_titlesDF, 'vader', 'gaming vader distribution')"
      ],
      "execution_count": 70,
      "outputs": [
        {
          "output_type": "stream",
          "text": [
            "100%|██████████| 20000/20000 [00:02<00:00, 7179.40it/s]\n"
          ],
          "name": "stderr"
        },
        {
          "output_type": "display_data",
          "data": {
            "image/png": "[encoded data removed]",
            "text/plain": [
              "<Figure size 432x288 with 1 Axes>"
            ]
          },
          "metadata": {
            "tags": [],
            "needs_background": "light"
          }
        }
      ]
    },
    {
      "cell_type": "code",
      "metadata": {
        "id": "mnODY0Hm6CLc",
        "colab_type": "code",
        "colab": {
          "base_uri": "https://localhost:8080/",
          "height": 312
        },
        "outputId": "3bda589f-5723-481c-d885-e477fc5effd8"
      },
      "source": [
        "'''\n",
        "Vader distribution for WTF\n",
        "'''\n",
        "WTF_titles = data[data['subreddit']=='WTF']['title'].values\n",
        "WTF_titlesDF = evalSentences(WTF_titles, to_df=True, columns=['title','vader'])\n",
        "getHistogram(WTF_titlesDF, 'vader', 'WTF vader distribution')"
      ],
      "execution_count": 71,
      "outputs": [
        {
          "output_type": "stream",
          "text": [
            "100%|██████████| 4939/4939 [00:00<00:00, 8927.15it/s]\n"
          ],
          "name": "stderr"
        },
        {
          "output_type": "display_data",
          "data": {
            "image/png": "[encoded data removed]",
            "text/plain": [
              "<Figure size 432x288 with 1 Axes>"
            ]
          },
          "metadata": {
            "tags": [],
            "needs_background": "light"
          }
        }
      ]
    },
    {
      "cell_type": "markdown",
      "metadata": {
        "id": "CM_7JH8W7WSv",
        "colab_type": "text"
      },
      "source": [
        "### b. \n",
        "\n",
        "From the vader distributions for all subreddits, I find that mot topics vader score is around 0.0. The vader score distributions varie slightly depeding on the different topics."
      ]
    },
    {
      "cell_type": "markdown",
      "metadata": {
        "id": "t2HBT8dT-A_U",
        "colab_type": "text"
      },
      "source": [
        "### c. I choose 0.25 to be threshold."
      ]
    },
    {
      "cell_type": "code",
      "metadata": {
        "id": "-YlSxQX4_vQs",
        "colab_type": "code",
        "colab": {}
      },
      "source": [
        "'''\n",
        "Add labels\n",
        "'''\n",
        "news_titlesDF['label'] = np.where(news_titlesDF['vader'] >= 0.25, 'pos', 'neg')\n",
        "pics_titlesDF['label'] = np.where(pics_titlesDF['vader'] >= 0.25, 'pos', 'neg')\n",
        "gaming_titlesDF['label'] = np.where(gaming_titlesDF['vader'] >= 0.25, 'pos', 'neg')\n",
        "WTF_titlesDF['label'] = np.where(WTF_titlesDF['vader'] >= 0.25, 'pos', 'neg')"
      ],
      "execution_count": 0,
      "outputs": []
    },
    {
      "cell_type": "markdown",
      "metadata": {
        "id": "KTajWemm-Gew",
        "colab_type": "text"
      },
      "source": [
        "### d.\n",
        "\n",
        "I show the most common 50 words for each subreddit. The results are evaluated visually.\n",
        "The nouns show in the top 50 words for each subreddits are closely related to the topic for both positive and negative lists. In the positive words, there are many adjactives or verbs with strong sentiment, such like, best and good but it is not the case for the negative words except for the WTF subreddit. In the negative words for WTF subreddit, you can see strong negative words, like WTF, NSFW and fuck, probably beacuse of sepecialty of the this subreddit name."
      ]
    },
    {
      "cell_type": "code",
      "metadata": {
        "id": "SUMXEjxUAA0P",
        "colab_type": "code",
        "colab": {}
      },
      "source": [
        "def getTopK(df, k, label_value, label_column='label', operation=operator.eq, value_column='title'):\n",
        "    lemmatizer = WordNetLemmatizer() \n",
        "    stop = set(stopwords.words('english'))\n",
        "    stop.add(\"...\")\n",
        "    stop.add(\"n't\")\n",
        "    stop.add(\"'ve\")\n",
        "    stop.add(\"'re\")\n",
        "    counter = Counter()\n",
        "    for review in df.loc[operation(df[label_column],label_value)][value_column]:\n",
        "            counter.update([lemmatizer.lemmatize(word_set)\n",
        "                          for word_set\n",
        "                          in nltk.word_tokenize(review)\n",
        "                          if lemmatizer.lemmatize(word_set).lower() not in stop and len(lemmatizer.lemmatize(word_set)) > 2])\n",
        "    topk = counter.most_common(k)\n",
        "    return topk\n"
      ],
      "execution_count": 0,
      "outputs": []
    },
    {
      "cell_type": "markdown",
      "metadata": {
        "id": "DUiuWHkY_3KI",
        "colab_type": "text"
      },
      "source": [
        "#### (i)"
      ]
    },
    {
      "cell_type": "code",
      "metadata": {
        "id": "sfDS0bni-YAC",
        "colab_type": "code",
        "colab": {
          "base_uri": "https://localhost:8080/",
          "height": 867
        },
        "outputId": "bfca363f-ec45-4801-ebd3-d887aadafe24"
      },
      "source": [
        "'''\n",
        "Top 50 most common word for news positive\n",
        "'''\n",
        "getTopK(df=news_titlesDF, k=50, label_value='pos')"
      ],
      "execution_count": 98,
      "outputs": [
        {
          "output_type": "execute_result",
          "data": {
            "text/plain": [
              "[('Best', 60),\n",
              " ('News', 35),\n",
              " ('Trump', 31),\n",
              " ('2019', 30),\n",
              " ('New', 24),\n",
              " ('say', 24),\n",
              " ('Get', 21),\n",
              " ('Market', 21),\n",
              " ('2018', 19),\n",
              " ('best', 18),\n",
              " ('help', 18),\n",
              " ('Benefits', 17),\n",
              " ('amp', 16),\n",
              " ('year', 16),\n",
              " ('free', 15),\n",
              " ('Court', 15),\n",
              " ('Help', 14),\n",
              " ('Service', 14),\n",
              " ('India', 13),\n",
              " ('Care', 13),\n",
              " ('Police', 13),\n",
              " ('shutdown', 13),\n",
              " ('Party', 12),\n",
              " ('Security', 12),\n",
              " ('first', 12),\n",
              " ('Tips', 12),\n",
              " ('people', 12),\n",
              " ('Card', 11),\n",
              " ('Love', 11),\n",
              " ('Top', 11),\n",
              " ('Services', 11),\n",
              " ('Russian', 11),\n",
              " ('Free', 11),\n",
              " ('http', 11),\n",
              " ('House', 11),\n",
              " ('top', 11),\n",
              " ('step', 11),\n",
              " ('Man', 11),\n",
              " ('police', 11),\n",
              " ('paper', 11),\n",
              " ('Good', 10),\n",
              " ('Online', 10),\n",
              " ('Health', 10),\n",
              " ('get', 10),\n",
              " ('Supreme', 10),\n",
              " ('money', 9),\n",
              " ('True', 9),\n",
              " ('Research', 9),\n",
              " ('Special', 9),\n",
              " ('security', 9)]"
            ]
          },
          "metadata": {
            "tags": []
          },
          "execution_count": 98
        }
      ]
    },
    {
      "cell_type": "code",
      "metadata": {
        "id": "qWAzaBdA6HwV",
        "colab_type": "code",
        "colab": {
          "base_uri": "https://localhost:8080/",
          "height": 867
        },
        "outputId": "2d245113-67c6-4b8d-8a56-f0c95ef910c1"
      },
      "source": [
        "'''\n",
        "Top 50 most common word for pics positive\n",
        "'''\n",
        "getTopK(df=pics_titlesDF, k=50, label_value='pos')"
      ],
      "execution_count": 99,
      "outputs": [
        {
          "output_type": "execute_result",
          "data": {
            "text/plain": [
              "[('like', 205),\n",
              " ('photo', 133),\n",
              " ('friend', 129),\n",
              " ('best', 117),\n",
              " ('look', 115),\n",
              " ('year', 111),\n",
              " ('picture', 104),\n",
              " ('took', 97),\n",
              " ('day', 78),\n",
              " ('one', 77),\n",
              " ('love', 76),\n",
              " ('2018', 72),\n",
              " ('New', 66),\n",
              " ('pic', 63),\n",
              " ('today', 59),\n",
              " ('favorite', 58),\n",
              " ('beautiful', 56),\n",
              " ('good', 51),\n",
              " ('guy', 51),\n",
              " ('get', 49),\n",
              " ('made', 49),\n",
              " ('Happy', 47),\n",
              " ('little', 44),\n",
              " ('new', 43),\n",
              " ('got', 43),\n",
              " ('first', 41),\n",
              " ('make', 40),\n",
              " ('great', 38),\n",
              " ('night', 37),\n",
              " ('really', 35),\n",
              " ('would', 34),\n",
              " ('found', 34),\n",
              " ('last', 33),\n",
              " ('know', 32),\n",
              " ('share', 32),\n",
              " ('think', 32),\n",
              " ('painted', 32),\n",
              " ('Year', 31),\n",
              " ('shot', 31),\n",
              " ('time', 30),\n",
              " ('amazing', 30),\n",
              " ('old', 30),\n",
              " ('ago', 29),\n",
              " ('thought', 29),\n",
              " ('work', 29),\n",
              " ('Reddit', 27),\n",
              " ('wife', 27),\n",
              " ('taken', 26),\n",
              " ('painting', 26),\n",
              " ('One', 25)]"
            ]
          },
          "metadata": {
            "tags": []
          },
          "execution_count": 99
        }
      ]
    },
    {
      "cell_type": "code",
      "metadata": {
        "id": "T8nNOwQSB991",
        "colab_type": "code",
        "colab": {
          "base_uri": "https://localhost:8080/",
          "height": 867
        },
        "outputId": "17a5f79d-1e49-43eb-c5a3-bedbafd58811"
      },
      "source": [
        "'''\n",
        "Top 50 most common word for gaming positive\n",
        "'''\n",
        "getTopK(df=gaming_titlesDF, k=50, label_value='pos')"
      ],
      "execution_count": 100,
      "outputs": [
        {
          "output_type": "execute_result",
          "data": {
            "text/plain": [
              "[('game', 2129),\n",
              " ('play', 669),\n",
              " ('like', 605),\n",
              " ('good', 457),\n",
              " ('best', 372),\n",
              " ('gaming', 338),\n",
              " ('help', 313),\n",
              " ('one', 260),\n",
              " ('time', 260),\n",
              " ('year', 255),\n",
              " ('friend', 252),\n",
              " ('would', 243),\n",
              " ('get', 231),\n",
              " ('love', 216),\n",
              " ('favorite', 214),\n",
              " ('played', 213),\n",
              " ('new', 208),\n",
              " ('first', 189),\n",
              " ('playing', 183),\n",
              " ('got', 179),\n",
              " ('video', 179),\n",
              " ('Best', 174),\n",
              " ('made', 166),\n",
              " ('ever', 161),\n",
              " ('Help', 158),\n",
              " ('know', 157),\n",
              " ('old', 153),\n",
              " ('need', 150),\n",
              " ('better', 145),\n",
              " ('guy', 144),\n",
              " ('think', 137),\n",
              " ('make', 135),\n",
              " ('really', 132),\n",
              " ('Xbox', 128),\n",
              " ('still', 126),\n",
              " ('PS4', 125),\n",
              " ('look', 122),\n",
              " ('great', 118),\n",
              " ('console', 110),\n",
              " ('day', 108),\n",
              " ('people', 107),\n",
              " ('Nintendo', 107),\n",
              " ('anyone', 104),\n",
              " ('want', 103),\n",
              " ('Need', 98),\n",
              " ('fun', 98),\n",
              " ('way', 92),\n",
              " ('today', 92),\n",
              " ('Super', 92),\n",
              " ('Game', 91)]"
            ]
          },
          "metadata": {
            "tags": []
          },
          "execution_count": 100
        }
      ]
    },
    {
      "cell_type": "code",
      "metadata": {
        "id": "RJOf_RM39yRv",
        "colab_type": "code",
        "colab": {
          "base_uri": "https://localhost:8080/",
          "height": 867
        },
        "outputId": "af511dab-cf63-4f4a-95b2-dc7c1e1a1b60"
      },
      "source": [
        "'''\n",
        "Top 50 most common word for WTF positive\n",
        "'''\n",
        "getTopK(df=WTF_titlesDF, k=50, label_value='pos')"
      ],
      "execution_count": 101,
      "outputs": [
        {
          "output_type": "execute_result",
          "data": {
            "text/plain": [
              "[('like', 79),\n",
              " ('friend', 45),\n",
              " ('hand', 26),\n",
              " ('look', 26),\n",
              " ('good', 20),\n",
              " ('get', 17),\n",
              " ('time', 17),\n",
              " ('one', 17),\n",
              " ('found', 16),\n",
              " ('love', 16),\n",
              " ('dog', 15),\n",
              " ('better', 15),\n",
              " ('year', 14),\n",
              " ('say', 13),\n",
              " ('left', 13),\n",
              " ('sure', 13),\n",
              " ('help', 13),\n",
              " ('think', 13),\n",
              " ('WTF', 13),\n",
              " ('got', 12),\n",
              " ('party', 12),\n",
              " ('nice', 12),\n",
              " ('Well', 12),\n",
              " ('NSFW', 11),\n",
              " ('alive', 11),\n",
              " ('take', 11),\n",
              " ('life', 11),\n",
              " ('made', 11),\n",
              " ('man', 11),\n",
              " ('thing', 10),\n",
              " ('way', 10),\n",
              " ('Man', 10),\n",
              " ('best', 10),\n",
              " ('Best', 10),\n",
              " ('know', 10),\n",
              " ('video', 10),\n",
              " ('right', 10),\n",
              " ('new', 9),\n",
              " ('someone', 9),\n",
              " ('cool', 9),\n",
              " ('people', 9),\n",
              " ('God', 9),\n",
              " ('school', 9),\n",
              " ('2019', 8),\n",
              " ('see', 8),\n",
              " ('interesting', 8),\n",
              " ('guy', 8),\n",
              " ('ago', 8),\n",
              " ('fit', 8),\n",
              " ('kid', 8)]"
            ]
          },
          "metadata": {
            "tags": []
          },
          "execution_count": 101
        }
      ]
    },
    {
      "cell_type": "markdown",
      "metadata": {
        "id": "Mm6cy_ZaCKs9",
        "colab_type": "text"
      },
      "source": [
        "(ii)"
      ]
    },
    {
      "cell_type": "code",
      "metadata": {
        "id": "gSmwEVEnCHH-",
        "colab_type": "code",
        "colab": {
          "base_uri": "https://localhost:8080/",
          "height": 867
        },
        "outputId": "3180f224-4a0d-4b5d-efa0-e13dccca7b39"
      },
      "source": [
        "'''\n",
        "Top 50 most common word for news negative\n",
        "'''\n",
        "getTopK(df=news_titlesDF, k=50, label_value='neg')"
      ],
      "execution_count": 102,
      "outputs": [
        {
          "output_type": "execute_result",
          "data": {
            "text/plain": [
              "[('Trump', 209),\n",
              " ('http', 167),\n",
              " ('rokambola', 118),\n",
              " ('2019', 114),\n",
              " ('say', 110),\n",
              " ('New', 89),\n",
              " ('shutdown', 84),\n",
              " ('News', 81),\n",
              " ('amp', 80),\n",
              " ('year', 74),\n",
              " ('government', 73),\n",
              " ('woman', 72),\n",
              " ('man', 72),\n",
              " ('U.S.', 68),\n",
              " ('Man', 66),\n",
              " ('arrested', 60),\n",
              " ('police', 55),\n",
              " ('dead', 52),\n",
              " ('killed', 51),\n",
              " ('Police', 49),\n",
              " ('new', 49),\n",
              " ('American', 49),\n",
              " ('China', 49),\n",
              " ('student', 47),\n",
              " ('Post', 47),\n",
              " ('India', 44),\n",
              " ('para', 44),\n",
              " ('charged', 43),\n",
              " ('state', 41),\n",
              " ('Market', 41),\n",
              " ('Online', 41),\n",
              " ('attack', 40),\n",
              " ('news', 40),\n",
              " ('child', 39),\n",
              " ('shooting', 39),\n",
              " ('House', 39),\n",
              " ('State', 39),\n",
              " ('death', 38),\n",
              " ('report', 37),\n",
              " ('wall', 37),\n",
              " ('people', 36),\n",
              " ('Edited', 36),\n",
              " ('Woman', 35),\n",
              " ('officer', 35),\n",
              " ('accused', 34),\n",
              " ('que', 34),\n",
              " ('border', 34),\n",
              " ('found', 33),\n",
              " ('million', 33),\n",
              " ('Florida', 33)]"
            ]
          },
          "metadata": {
            "tags": []
          },
          "execution_count": 102
        }
      ]
    },
    {
      "cell_type": "code",
      "metadata": {
        "id": "5fvI9DayCNtT",
        "colab_type": "code",
        "colab": {
          "base_uri": "https://localhost:8080/",
          "height": 867
        },
        "outputId": "52e57c45-4cc1-47ff-bedb-04bb805bd108"
      },
      "source": [
        "'''\n",
        "Top 50 most common word for pics negative\n",
        "'''\n",
        "getTopK(df=pics_titlesDF, k=50, label_value='neg')"
      ],
      "execution_count": 103,
      "outputs": [
        {
          "output_type": "execute_result",
          "data": {
            "text/plain": [
              "[('year', 174),\n",
              " ('picture', 131),\n",
              " ('photo', 102),\n",
              " ('took', 100),\n",
              " ('painted', 100),\n",
              " ('today', 95),\n",
              " ('one', 91),\n",
              " ('guy', 88),\n",
              " ('first', 85),\n",
              " ('day', 79),\n",
              " ('time', 79),\n",
              " ('made', 76),\n",
              " ('got', 69),\n",
              " ('old', 68),\n",
              " ('last', 66),\n",
              " ('New', 65),\n",
              " ('dog', 64),\n",
              " ('new', 62),\n",
              " ('get', 61),\n",
              " ('cat', 59),\n",
              " ('found', 55),\n",
              " ('painting', 54),\n",
              " ('see', 53),\n",
              " ('morning', 52),\n",
              " ('night', 52),\n",
              " ('look', 50),\n",
              " ('know', 50),\n",
              " ('pic', 47),\n",
              " ('like', 47),\n",
              " ('work', 46),\n",
              " ('back', 46),\n",
              " ('way', 44),\n",
              " ('ago', 44),\n",
              " ('taken', 41),\n",
              " ('snow', 40),\n",
              " ('mom', 40),\n",
              " ('little', 39),\n",
              " ('make', 39),\n",
              " ('take', 39),\n",
              " ('car', 38),\n",
              " ('shot', 37),\n",
              " ('wife', 37),\n",
              " ('house', 37),\n",
              " ('right', 36),\n",
              " ('tree', 36),\n",
              " ('Found', 36),\n",
              " ('think', 35),\n",
              " ('people', 35),\n",
              " ('2018', 34),\n",
              " ('home', 34)]"
            ]
          },
          "metadata": {
            "tags": []
          },
          "execution_count": 103
        }
      ]
    },
    {
      "cell_type": "code",
      "metadata": {
        "id": "u49cMTtyCPgS",
        "colab_type": "code",
        "colab": {
          "base_uri": "https://localhost:8080/",
          "height": 867
        },
        "outputId": "a9db5af4-dc60-42a1-d388-dbe09d6cd07d"
      },
      "source": [
        "'''\n",
        "Top 50 most common word for gaming negative\n",
        "'''\n",
        "getTopK(df=gaming_titlesDF, k=50, label_value='neg')"
      ],
      "execution_count": 104,
      "outputs": [
        {
          "output_type": "execute_result",
          "data": {
            "text/plain": [
              "[('game', 2286),\n",
              " ('gaming', 436),\n",
              " ('get', 363),\n",
              " ('one', 349),\n",
              " ('year', 316),\n",
              " ('time', 310),\n",
              " ('new', 297),\n",
              " ('got', 280),\n",
              " ('think', 267),\n",
              " ('know', 233),\n",
              " ('Game', 228),\n",
              " ('made', 228),\n",
              " ('playing', 227),\n",
              " ('Games', 217),\n",
              " ('PS4', 216),\n",
              " ('Xbox', 215),\n",
              " ('video', 213),\n",
              " ('old', 208),\n",
              " ('first', 189),\n",
              " ('need', 186),\n",
              " ('Resident', 186),\n",
              " ('Nintendo', 182),\n",
              " ('like', 178),\n",
              " ('Evil', 176),\n",
              " ('Gaming', 171),\n",
              " ('people', 170),\n",
              " ('guy', 167),\n",
              " ('play', 166),\n",
              " ('Dead', 165),\n",
              " ('day', 164),\n",
              " ('would', 157),\n",
              " ('anyone', 156),\n",
              " ('2019', 153),\n",
              " ('buy', 152),\n",
              " ('still', 150),\n",
              " ('New', 150),\n",
              " ('Anthem', 150),\n",
              " ('make', 149),\n",
              " ('ever', 147),\n",
              " ('Switch', 146),\n",
              " ('Fallout', 145),\n",
              " ('want', 144),\n",
              " ('Red', 144),\n",
              " ('Anyone', 138),\n",
              " ('else', 138),\n",
              " ('console', 138),\n",
              " ('see', 134),\n",
              " ('back', 134),\n",
              " ('Looking', 130),\n",
              " ('found', 125)]"
            ]
          },
          "metadata": {
            "tags": []
          },
          "execution_count": 104
        }
      ]
    },
    {
      "cell_type": "code",
      "metadata": {
        "id": "ImCxFM9KCPT0",
        "colab_type": "code",
        "colab": {
          "base_uri": "https://localhost:8080/",
          "height": 867
        },
        "outputId": "6df4fa71-b035-4a1b-8176-b128e45d7181"
      },
      "source": [
        "'''\n",
        "Top 50 most common word for WTF negative\n",
        "'''\n",
        "getTopK(df=WTF_titlesDF, k=50, label_value='neg')"
      ],
      "execution_count": 105,
      "outputs": [
        {
          "output_type": "execute_result",
          "data": {
            "text/plain": [
              "[('WTF', 156),\n",
              " ('NSFW', 100),\n",
              " ('found', 89),\n",
              " ('Man', 80),\n",
              " ('get', 73),\n",
              " ('dog', 68),\n",
              " ('know', 64),\n",
              " ('guy', 63),\n",
              " ('Found', 63),\n",
              " ('year', 62),\n",
              " ('back', 55),\n",
              " ('thing', 54),\n",
              " ('one', 53),\n",
              " ('think', 50),\n",
              " ('day', 49),\n",
              " ('car', 48),\n",
              " ('wtf', 47),\n",
              " ('man', 47),\n",
              " ('woman', 46),\n",
              " ('time', 46),\n",
              " ('fuck', 45),\n",
              " ('people', 42),\n",
              " ('even', 42),\n",
              " ('got', 42),\n",
              " ('kid', 41),\n",
              " ('want', 39),\n",
              " ('doe', 38),\n",
              " ('today', 38),\n",
              " ('video', 38),\n",
              " ('going', 37),\n",
              " ('make', 37),\n",
              " ('work', 37),\n",
              " ('baby', 34),\n",
              " ('Wtf', 34),\n",
              " ('new', 33),\n",
              " ('say', 33),\n",
              " ('old', 32),\n",
              " ('school', 32),\n",
              " ('weird', 32),\n",
              " ('home', 31),\n",
              " ('hour', 31),\n",
              " ('like', 30),\n",
              " ('dead', 29),\n",
              " ('look', 29),\n",
              " ('see', 29),\n",
              " ('way', 28),\n",
              " ('inside', 28),\n",
              " ('2019', 27),\n",
              " ('face', 27),\n",
              " ('picture', 27)]"
            ]
          },
          "metadata": {
            "tags": []
          },
          "execution_count": 105
        }
      ]
    }
  ]
}